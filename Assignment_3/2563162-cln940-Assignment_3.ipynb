{
 "cells": [
  {
   "cell_type": "markdown",
   "metadata": {},
   "source": [
    "# Knowledge and Data 2017: 3rd practical assignment \n",
    "## RDF Data, RDFS knowledge and inferencing "
   ]
  },
  {
   "cell_type": "markdown",
   "metadata": {},
   "source": [
    "Your name: **Can (John) Lokman**\n",
    "\n",
    "Your VUNetID: **CLN940** \\ Student Number: **2563162**\n",
    "\n",
    "If you do not provide your name and VUNetID we will not accept your submission. "
   ]
  },
  {
   "cell_type": "markdown",
   "metadata": {},
   "source": [
    "At the end of this exercise you should be able to \n",
    "\n",
    "1. access local an external data via SPARQL both from within a python programming environment and stand-alone with a GUI, such as YASGUI (www.yasgui.org), and this way integrate data from different sources  \n",
    "2. Model your own first knowledge base, in this case an RDF Schema knowledge graph\n",
    "3. Implement inference rules "
   ]
  },
  {
   "cell_type": "markdown",
   "metadata": {},
   "source": [
    "Follow this Notebook step-by-step. \n",
    "\n",
    "Of course, you can do the exercises in any Programming Editor of your liking. \n",
    "But you do not have to. Feel free to simply write code in the Notebook. When \n",
    "everythink is filled in and works, safe the Notebook and submit it \n",
    "as a Jupyter Notebook, i.e. with an ipynb extension. Please use as name of the \n",
    "Notebook your studentID+Assignment3.ipynb.  \n",
    "\n",
    "Other than in courses dedicated to programming we will not evaluate the style\n",
    "of the programs. But we will test your programs on other data than we provide, \n",
    "and your program should give the correct answers to those test-data as well. "
   ]
  },
  {
   "cell_type": "markdown",
   "metadata": {},
   "source": [
    "Before you start, install the Stardog Triplestore, and make sure the server is running (follow the explanation in the file tools.md that was provided in week 1 - https://github.com/kadevgraaf/semanticweb-web-application-tutorial/blob/master/tools.md#4-the-stardog-triple-store-version-4-or-higher). \n",
    "\n",
    "Then, add the file example-from-slides.ttl to a newly created database, say called assignment3. "
   ]
  },
  {
   "cell_type": "markdown",
   "metadata": {},
   "source": [
    "## Task 1: (2 points) Integrate local and external data"
   ]
  },
  {
   "cell_type": "markdown",
   "metadata": {},
   "source": [
    "You can integrate SPARQL queries into your python code by using the SPARQLWrapper library as follows: "
   ]
  },
  {
   "cell_type": "code",
   "execution_count": 52,
   "metadata": {
    "scrolled": false
   },
   "outputs": [
    {
     "name": "stdout",
     "output_type": "stream",
     "text": [
      "Amsterdam\nأمستردام\nAmsterdam\nÁmsterdam\nAmsterdam\nAmsterdam\nアムステルダム\nAmsterdam\nAmsterdam\nAmesterdão\nАмстердам\n阿姆斯特丹\n"
     ]
    }
   ],
   "source": [
    "#THIS ONLY WORKS WHEN YOU ARE ONLINE\n",
    "from rdflib import Graph, RDF, Namespace, Literal, URIRef\n",
    "from SPARQLWrapper import SPARQLWrapper, JSON\n",
    "\n",
    "sparql = SPARQLWrapper(\"http://dbpedia.org/sparql\")\n",
    "sparql.setQuery(\"\"\"\n",
    "    PREFIX rdfs: <http://www.w3.org/2000/01/rdf-schema#>\n",
    "    SELECT ?label\n",
    "    WHERE { <http://dbpedia.org/resource/Amsterdam> rdfs:label ?label }\n",
    "\"\"\")\n",
    "sparql.setReturnFormat(JSON)\n",
    "results = sparql.query().convert()\n",
    "for result in results[\"results\"][\"bindings\"]:\n",
    "   print(result[\"label\"][\"value\"])\n",
    "\n",
    "# This code accesses the DBPedia database, and returns the result of the specified SPARQL query (test it!)"
   ]
  },
  {
   "cell_type": "markdown",
   "metadata": {},
   "source": [
    "While the above is just an example code on how to use RDFLIb and SPARQLWRAPPER to access external/interenal SPARQL endpoints, and manipulate the results in Python. \n",
    "\n",
    "Your tasks is now to write a SPARQL query that extracts all the cities from your local knowledge graph (constructed by loading the file example-from-slides.ttl) and uses the results to find the number of inhabitants of these cities and the longitute and latitude information (if available) from DBPedia. \n",
    "\n",
    "Add those triples to your graph using both namespaces (e.g. ex:Amsterdam dbo:populationTotal \"123456\") and print in turtle.   "
   ]
  },
  {
   "cell_type": "markdown",
   "metadata": {},
   "source": [
    "Import example-from-slides.ttl: "
   ]
  },
  {
   "cell_type": "code",
   "execution_count": 53,
   "metadata": {
    "collapsed": true
   },
   "outputs": [
    {
     "name": "stdout",
     "output_type": "stream",
     "text": [
      "@prefix dbo: <http://dbpedia.org/ontology/> .\n@prefix dbr: <http://dbpedia.org/resource/> .\n@prefix ex: <http://example.com/kad2017/> .\n@prefix rdf: <http://www.w3.org/1999/02/22-rdf-syntax-ns#> .\n@prefix rdfs: <http://www.w3.org/2000/01/rdf-schema#> .\n@prefix xml: <http://www.w3.org/XML/1998/namespace> .\n@prefix xsd: <http://www.w3.org/2001/XMLSchema#> .\n\nex:Netherlands a ex:Country ;\n    ex:contains ex:Ijsselmeer ;\n    ex:containsCity ex:Rotterdam ;\n    ex:has_Capital ex:Amsterdam ;\n    ex:has_Name \"TheNetherlands\" ;\n    ex:neighbours ex:Belgium .\n\nex:hasCapital rdfs:range ex:Capital ;\n    rdfs:subPropertyOf ex:containsCity .\n\nex:neighbours rdfs:subPropertyOf ex:closeBy .\n\nex:Amsterdam a ex:Capital ;\n    ex:closeBy ex:Germany .\n\nex:Belgium a ex:Country .\n\nex:EuropeanCountry rdfs:subClassOf ex:Country .\n\nex:Germany a ex:EuropeanCountry ;\n    ex:hasCapital ex:Berlin .\n\nex:closeBy rdfs:domain ex:Location ;\n    rdfs:range ex:Location .\n\nex:containsCity rdfs:domain ex:Country ;\n    rdfs:range ex:City ;\n    rdfs:subPropertyOf ex:contains .\n\nex:Capital rdfs:subClassOf ex:City .\n\nex:City rdfs:subClassOf ex:Location .\n\nex:Country rdfs:subClassOf ex:Location .\n\n\n"
     ]
    }
   ],
   "source": [
    "from rdflib import Graph, RDF, Namespace, Literal, URIRef\n",
    "g = Graph()\n",
    "\n",
    "EX = Namespace('http://example.com/kad2017/')   # Define a namespace variable for Python environment...\n",
    "g.bind('ex',EX)                                 # and bind it to the string 'ex' in graph environment.\n",
    "# Usage:    EX[<Prefix here>]\n",
    "# Example:\n",
    "# EX[\"England\"] # creates a new element \"http://example.com/kad2017/England\"\n",
    "# This is equivalent to:\n",
    "# URIRef(\"http://example.com/kad2017/England\")\n",
    "\n",
    "\n",
    "def serialize():\n",
    "    print g.serialize(format='turtle')\n",
    "\n",
    "def save(filename):\n",
    "    with open(filename, 'w') as f:\n",
    "        g.serialize(f, format='turtle')\n",
    "\n",
    "def load(filename):\n",
    "    with open(filename, 'r') as f:\n",
    "        g.load(f, format='turtle')\n",
    "\n",
    "load('example-from-slides.ttl')                 # If using Jupyter, please uncomment this line\n",
    "#load('Assignment 3\\\\example-from-slides.ttl')  # If using PyCharm, please uncomment this line\n",
    "\n",
    "serialize()"
   ]
  },
  {
   "cell_type": "code",
   "execution_count": 55,
   "metadata": {},
   "outputs": [
    {
     "name": "stdout",
     "output_type": "stream",
     "text": [
      "http://example.com/kad2017/hasCapital|||http://www.w3.org/2000/01/rdf-schema#subPropertyOf|||http://example.com/kad2017/containsCity\nhttp://example.com/kad2017/Netherlands|||http://example.com/kad2017/contains|||http://example.com/kad2017/Ijsselmeer\nhttp://example.com/kad2017/hasCapital|||http://www.w3.org/2000/01/rdf-schema#range|||http://example.com/kad2017/Capital\nhttp://example.com/kad2017/Country|||http://www.w3.org/2000/01/rdf-schema#subClassOf|||http://example.com/kad2017/Location\nhttp://example.com/kad2017/closeBy|||http://www.w3.org/2000/01/rdf-schema#range|||http://example.com/kad2017/Location\nhttp://example.com/kad2017/neighbours|||http://www.w3.org/2000/01/rdf-schema#subPropertyOf|||http://example.com/kad2017/closeBy\nhttp://example.com/kad2017/Netherlands|||http://example.com/kad2017/containsCity|||http://example.com/kad2017/Rotterdam\nhttp://example.com/kad2017/Netherlands|||http://example.com/kad2017/neighbours|||http://example.com/kad2017/Belgium\nhttp://example.com/kad2017/EuropeanCountry|||http://www.w3.org/2000/01/rdf-schema#subClassOf|||http://example.com/kad2017/Country\nhttp://example.com/kad2017/containsCity|||http://www.w3.org/2000/01/rdf-schema#range|||http://example.com/kad2017/City\nhttp://example.com/kad2017/Germany|||http://example.com/kad2017/hasCapital|||http://example.com/kad2017/Berlin\nhttp://example.com/kad2017/Amsterdam|||http://www.w3.org/1999/02/22-rdf-syntax-ns#type|||http://example.com/kad2017/Capital\nhttp://example.com/kad2017/City|||http://www.w3.org/2000/01/rdf-schema#subClassOf|||http://example.com/kad2017/Location\nhttp://example.com/kad2017/Capital|||http://www.w3.org/2000/01/rdf-schema#subClassOf|||http://example.com/kad2017/City\nhttp://example.com/kad2017/Germany|||http://www.w3.org/1999/02/22-rdf-syntax-ns#type|||http://example.com/kad2017/EuropeanCountry\nhttp://example.com/kad2017/Netherlands|||http://example.com/kad2017/has_Name|||TheNetherlands\nhttp://example.com/kad2017/containsCity|||http://www.w3.org/2000/01/rdf-schema#subPropertyOf|||http://example.com/kad2017/contains\nhttp://example.com/kad2017/Netherlands|||http://example.com/kad2017/has_Capital|||http://example.com/kad2017/Amsterdam\nhttp://example.com/kad2017/Netherlands|||http://www.w3.org/1999/02/22-rdf-syntax-ns#type|||http://example.com/kad2017/Country\nhttp://example.com/kad2017/Amsterdam|||http://example.com/kad2017/closeBy|||http://example.com/kad2017/Germany\nhttp://example.com/kad2017/closeBy|||http://www.w3.org/2000/01/rdf-schema#domain|||http://example.com/kad2017/Location\nhttp://example.com/kad2017/Belgium|||http://www.w3.org/1999/02/22-rdf-syntax-ns#type|||http://example.com/kad2017/Country\nhttp://example.com/kad2017/containsCity|||http://www.w3.org/2000/01/rdf-schema#domain|||http://example.com/kad2017/Country\n"
     ]
    }
   ],
   "source": [
    "# The current state of the graph\n",
    "for s,p,o in g:\n",
    "    print s + \"|||\" + p + \"|||\" + o"
   ]
  },
  {
   "cell_type": "markdown",
   "metadata": {},
   "source": [
    "Get all relationships of 'ex:City':"
   ]
  },
  {
   "cell_type": "code",
   "execution_count": 56,
   "metadata": {},
   "outputs": [
    {
     "name": "stdout",
     "output_type": "stream",
     "text": [
      "http://example.com/kad2017/Capital\nhttp://example.com/kad2017/containsCity\n"
     ]
    }
   ],
   "source": [
    "import rdflib\n",
    "from rdflib import Literal, URIRef\n",
    "\n",
    "qres = g.query(\n",
    "    \n",
    "    \"\"\"\n",
    "    PREFIX ex: <http://example.com/kad2017/>\n",
    "\n",
    "    SELECT ?x\n",
    "        WHERE {\n",
    "            {?x  ?anyPredicate ex:City .}\n",
    "            UNION\n",
    "            {ex:City  ?anyPredicate ?anyObject .}\n",
    "        }\n",
    "    \"\"\")\n",
    "\n",
    "for row in qres:\n",
    "    print(\"%s\"  % row)"
   ]
  },
  {
   "cell_type": "markdown",
   "metadata": {},
   "source": [
    "Return all cities in the triple store:"
   ]
  },
  {
   "cell_type": "code",
   "execution_count": 57,
   "metadata": {
    "collapsed": false
   },
   "outputs": [
    {
     "name": "stdout",
     "output_type": "stream",
     "text": [
      "[u'http://dbpedia.org/resource/Rotterdam',\n u'http://dbpedia.org/resource/Amsterdam',\n u'http://dbpedia.org/resource/Berlin']\n"
     ]
    }
   ],
   "source": [
    "qres = g.query(\n",
    "    \n",
    "    \"\"\"\n",
    "    PREFIX ex: <http://example.com/kad2017/>\n",
    "    PREFIX dbp: <http://dbpedia.org/resource/>\n",
    "    PREFIX dbo: <http://dbpedia.org/ontology/>\n",
    "\n",
    "    SELECT ?dbpediaCity\n",
    "        WHERE {\n",
    "            # Get all cities in the triple store\n",
    "            {?subject ex:containsCity ?x .}\n",
    "            UNION\n",
    "            {?x a ex:Capital .}\n",
    "            UNION\n",
    "            {?subject ex:hasCapital ?x .}\n",
    "            \n",
    "            # Replace 'http://example.com/kad2017/' with 'http://dbpedia.org/resource/' in the returned URIs\n",
    "            BIND (URI(REPLACE(STR(?x), STR(ex:), STR(dbp:))) AS ?dbpediaCity)\n",
    "            #BIND (URI(REPLACE(STR(?dbpediaCity), STR(dbp:), \"a\")) AS ?dbpediaCity)\n",
    "        }\n",
    "        \n",
    "    \"\"\"\n",
    ")\n",
    "\n",
    "dbpediaCities = []\n",
    "for row in qres:\n",
    "    #print(\"%s\"  % row)\n",
    "    dbpediaCities.append(\"%s\"  % row)\n",
    "\n",
    "from pprint import pprint\n",
    "pprint (dbpediaCities)"
   ]
  },
  {
   "cell_type": "markdown",
   "metadata": {},
   "source": [
    "***Return population information (required) and latitude/longitude of each city (optional):\n",
    "(As Rotterdam does not have a population info, it is not among the returned results. Despite the missing population information, Rotterdam could have been included with the an optional \"dbp:populationBlank\" property, or by simply encapsulating the \"<{val}> dbo:populationTotal ?pop .\" query in OPTIONAL keyword, but this considerably complicates results, and makes their printing an even more complicated process.)***"
   ]
  },
  {
   "cell_type": "code",
   "execution_count": 58,
   "metadata": {},
   "outputs": [
    {
     "name": "stdout",
     "output_type": "stream",
     "text": [
      "CITY: http://dbpedia.org/resource/Amsterdam , POPULATION: 842343 , LATITUDE: 52 , LONGITUDE: 4\nCITY: http://dbpedia.org/resource/Berlin , POPULATION: 3610156 , LATITUDE: 52 , LONGITUDE: 13\n"
     ]
    }
   ],
   "source": [
    "final_results = []\n",
    "for each_city in dbpediaCities: \n",
    "    sparql.setQuery(\n",
    "        \"\"\"\n",
    "        \n",
    "        PREFIX ex: <http://example.com/kad2017/>\n",
    "        PREFIX dbr: <http://dbpedia.org/resource/>\n",
    "        PREFIX dbo: <http://dbpedia.org/ontology/>\n",
    "        PREFIX dbp: <http://dbpedia.org/property/>\n",
    "        \n",
    "        \n",
    "        SELECT ?stringCity ?pop ?lat ?lon\n",
    "        \n",
    "        WHERE {{ \n",
    "            {{BIND (URI(REPLACE(STR(<{val}>), STR(dbp:), \"\")) AS ?stringCity)}}\n",
    "            <{val}> dbo:populationTotal ?pop .\n",
    "            OPTIONAL{{<{val}> dbp:latd ?lat}}\n",
    "            OPTIONAL{{<{val}> dbp:longd ?lon}}\n",
    "        }}\n",
    "        \n",
    "        \"\"\".format(val=each_city)\n",
    "    )\n",
    "    \n",
    "    \n",
    "    sparql.setReturnFormat(JSON)\n",
    "    results = sparql.query().convert()\n",
    "    for result in results[\"results\"][\"bindings\"]:\n",
    "        final_results.append([result])\n",
    "        \n",
    "\n",
    "for each_result in final_results:\n",
    "    print (str(\n",
    "        \"CITY: \" + each_result[0][\"stringCity\"][\"value\"]) + \" , \" \n",
    "           \"POPULATION: \" + each_result[0][\"pop\"][\"value\"]+ \" , \" \n",
    "           \"LATITUDE: \" + each_result[0][\"lat\"][\"value\"] + \" , \"\n",
    "           \"LONGITUDE: \" + each_result[0][\"lon\"][\"value\"]\n",
    "           )"
   ]
  },
  {
   "cell_type": "markdown",
   "metadata": {},
   "source": [
    "## Task 2: (3 points)  Implement basic inferencing rules "
   ]
  },
  {
   "cell_type": "markdown",
   "metadata": {},
   "source": [
    "In the lecture we showed that the RDFS inference rules can be used to infer new knowledge. For example, infer class membership based on rdfs:domain or infer relationships between subjects and objects based on rdfs:subPropertyOf.\n",
    "\n",
    "Create rules (or 1 rule?!) to inference class membership based on the RDF Schema language features \n",
    "*\tFor example: infer that an instance belongs to a class because of domain and range restrictions\n",
    "*\tFor example: infer that an instance belongs to a (super)class because it also belongs to a subclass\n",
    "\n",
    "You should implement at least 4 of the following rules:  \n",
    "\n",
    "*     (rdfs2) If G contains the triples (a rdfs:domain x.) and (u a y.)  then infer the triple (u rdf:type x.)\n",
    "*     (rdfs3) If G contains the triples (a rdfs:range x.) and (u a v.) then infer the triple (v rdf:type x .)\n",
    "*     (rdfs5) If G contains the triples (u rdfs:subPropertyOf v.) and (v rdfs:subPropertyOf x.) then infer the triple\n",
    "(u rdfs:subPropertyOf x.) \n",
    "*     (rdfs7) If G contains the triples (a rdfs:subPropertyOf b.) and (u a y.) then infer the triple (u b y) \n",
    "*     (rdfs9) If G contains the triples (u rdfs:subClassOf x.) and (v rdf:type u.) then infer the triple\n",
    " (v rdf:type x.)   -> this one was not mentioned in the lecture, but is a very important one. \n",
    "*     (rdfs11) If G contains the triples (u rdfs:subClassOf v.) and (v rdfs:subClassOf x.) then infer the triple\n",
    "(u rdfs:subClassOf x.)\n",
    "\n",
    "Actually, please note that you will have already implemented rdfs as part of the assignment of Module 2. \n",
    "\n",
    "Run your rule reasoner on your knowledge graph."
   ]
  },
  {
   "cell_type": "code",
   "execution_count": 59,
   "metadata": {
    "collapsed": true
   },
   "outputs": [
    {
     "name": "stdout",
     "output_type": "stream",
     "text": [
      "http://example.com/kad2017/hasCapital     ---      http://www.w3.org/2000/01/rdf-schema#subPropertyOf     ---      http://example.com/kad2017/containsCity\nhttp://example.com/kad2017/Netherlands     ---      http://example.com/kad2017/contains     ---      http://example.com/kad2017/Ijsselmeer\nhttp://example.com/kad2017/hasCapital     ---      http://www.w3.org/2000/01/rdf-schema#range     ---      http://example.com/kad2017/Capital\nhttp://example.com/kad2017/Country     ---      http://www.w3.org/2000/01/rdf-schema#subClassOf     ---      http://example.com/kad2017/Location\nhttp://example.com/kad2017/closeBy     ---      http://www.w3.org/2000/01/rdf-schema#range     ---      http://example.com/kad2017/Location\nhttp://example.com/kad2017/neighbours     ---      http://www.w3.org/2000/01/rdf-schema#subPropertyOf     ---      http://example.com/kad2017/closeBy\nhttp://example.com/kad2017/Netherlands     ---      http://example.com/kad2017/containsCity     ---      http://example.com/kad2017/Rotterdam\nhttp://example.com/kad2017/Netherlands     ---      http://example.com/kad2017/neighbours     ---      http://example.com/kad2017/Belgium\nhttp://example.com/kad2017/EuropeanCountry     ---      http://www.w3.org/2000/01/rdf-schema#subClassOf     ---      http://example.com/kad2017/Country\nhttp://example.com/kad2017/containsCity     ---      http://www.w3.org/2000/01/rdf-schema#range     ---      http://example.com/kad2017/City\nhttp://example.com/kad2017/Germany     ---      http://example.com/kad2017/hasCapital     ---      http://example.com/kad2017/Berlin\nhttp://example.com/kad2017/Amsterdam     ---      http://www.w3.org/1999/02/22-rdf-syntax-ns#type     ---      http://example.com/kad2017/Capital\nhttp://example.com/kad2017/City     ---      http://www.w3.org/2000/01/rdf-schema#subClassOf     ---      http://example.com/kad2017/Location\nhttp://example.com/kad2017/Capital     ---      http://www.w3.org/2000/01/rdf-schema#subClassOf     ---      http://example.com/kad2017/City\nhttp://example.com/kad2017/Germany     ---      http://www.w3.org/1999/02/22-rdf-syntax-ns#type     ---      http://example.com/kad2017/EuropeanCountry\nhttp://example.com/kad2017/Netherlands     ---      http://example.com/kad2017/has_Name     ---      TheNetherlands\nhttp://example.com/kad2017/containsCity     ---      http://www.w3.org/2000/01/rdf-schema#subPropertyOf     ---      http://example.com/kad2017/contains\nhttp://example.com/kad2017/Netherlands     ---      http://example.com/kad2017/has_Capital     ---      http://example.com/kad2017/Amsterdam\nhttp://example.com/kad2017/Netherlands     ---      http://www.w3.org/1999/02/22-rdf-syntax-ns#type     ---      http://example.com/kad2017/Country\nhttp://example.com/kad2017/Amsterdam     ---      http://example.com/kad2017/closeBy     ---      http://example.com/kad2017/Germany\nhttp://example.com/kad2017/closeBy     ---      http://www.w3.org/2000/01/rdf-schema#domain     ---      http://example.com/kad2017/Location\nhttp://example.com/kad2017/Belgium     ---      http://www.w3.org/1999/02/22-rdf-syntax-ns#type     ---      http://example.com/kad2017/Country\nhttp://example.com/kad2017/containsCity     ---      http://www.w3.org/2000/01/rdf-schema#domain     ---      http://example.com/kad2017/Country\n"
     ]
    }
   ],
   "source": [
    "# The current state of the triple store.\n",
    "for s,p,o in g:\n",
    "    print s + \"     ---      \" + p + \"     ---      \" + o"
   ]
  },
  {
   "cell_type": "markdown",
   "metadata": {},
   "source": [
    "***(rdfs11)***\n",
    "\n",
    "\n",
    "If G contains the triples (x rdfs:subClassOf y.) and (y rdfs:subClassOf z.) then infer the triple (x rdfs:subClassOf z.):"
   ]
  },
  {
   "cell_type": "code",
   "execution_count": 60,
   "metadata": {},
   "outputs": [
    {
     "name": "stdout",
     "output_type": "stream",
     "text": [
      "The following triples are inferred:\n http://example.com/kad2017/EuropeanCountry         http://www.w3.org/2000/01/rdf-schema#subClassOf             http://example.com/kad2017/Location\n http://example.com/kad2017/Capital         http://www.w3.org/2000/01/rdf-schema#subClassOf             http://example.com/kad2017/Location\n"
     ]
    }
   ],
   "source": [
    "qres = g.query(\n",
    "    \n",
    "    \"\"\"\n",
    "    PREFIX ex: <http://example.com/kad2017/>\n",
    "    PREFIX dbp: <http://dbpedia.org/resource/>\n",
    "    PREFIX dbo: <http://dbpedia.org/ontology/>\n",
    "    PREFIX rdfs: <http://www.w3.org/2000/01/rdf-schema#>\n",
    "\n",
    "    CONSTRUCT {?x rdfs:subClassOf ?z .}\n",
    "    WHERE\n",
    "        {\n",
    "            ?x rdfs:subClassOf ?y .\n",
    "            ?y rdfs:subClassOf ?z . \n",
    "    }\n",
    "    \n",
    "    \"\"\"\n",
    ")\n",
    "\n",
    "print (\"The following triples are inferred:\")\n",
    "for row in qres:\n",
    "    print(\" %s         %s             %s\"  % row)"
   ]
  },
  {
   "cell_type": "markdown",
   "metadata": {},
   "source": [
    "***(rdfs5)***\n",
    "\n",
    "If G contains the triples (p rdfs:subPropertyOf q.) and (q rdfs:subPropertyOf r.) then infer the triple (p rdfs:subPropertyOf r.)"
   ]
  },
  {
   "cell_type": "code",
   "execution_count": 61,
   "metadata": {},
   "outputs": [
    {
     "name": "stdout",
     "output_type": "stream",
     "text": [
      "The following triples are inferred:\n http://example.com/kad2017/hasCapital         http://www.w3.org/2000/01/rdf-schema#subPropertyOf             http://example.com/kad2017/contains\n"
     ]
    }
   ],
   "source": [
    "qres = g.query(\n",
    "    \n",
    "    \"\"\"\n",
    "    PREFIX ex: <http://example.com/kad2017/>\n",
    "    PREFIX dbp: <http://dbpedia.org/resource/>\n",
    "    PREFIX dbo: <http://dbpedia.org/ontology/>\n",
    "    PREFIX rdfs: <http://www.w3.org/2000/01/rdf-schema#>\n",
    "\n",
    "    CONSTRUCT {?p rdfs:subPropertyOf ?r .}\n",
    "    WHERE\n",
    "        {\n",
    "            ?p rdfs:subPropertyOf ?q .\n",
    "            ?q rdfs:subPropertyOf ?r . \n",
    "    }\n",
    "    \n",
    "    \"\"\"\n",
    ")\n",
    "\n",
    "print (\"The following triples are inferred:\")\n",
    "for row in qres:\n",
    "    print(\" %s         %s             %s\"  % row)"
   ]
  },
  {
   "cell_type": "markdown",
   "metadata": {},
   "source": [
    "***(rdfs7)***\n",
    "\n",
    "If G contains the triples (p rdfs:subPropertyOf q.) and (x p y.) then infer the triple (x q y):"
   ]
  },
  {
   "cell_type": "code",
   "execution_count": 62,
   "metadata": {},
   "outputs": [
    {
     "name": "stdout",
     "output_type": "stream",
     "text": [
      "The following triples are inferred:\n http://example.com/kad2017/Germany         http://example.com/kad2017/containsCity             http://example.com/kad2017/Berlin\n http://example.com/kad2017/Netherlands         http://example.com/kad2017/closeBy             http://example.com/kad2017/Belgium\n http://example.com/kad2017/Netherlands         http://example.com/kad2017/contains             http://example.com/kad2017/Rotterdam\n"
     ]
    }
   ],
   "source": [
    "qres = g.query(\n",
    "    \n",
    "    \"\"\"\n",
    "    PREFIX ex: <http://example.com/kad2017/>\n",
    "    PREFIX dbp: <http://dbpedia.org/resource/>\n",
    "    PREFIX dbo: <http://dbpedia.org/ontology/>\n",
    "    PREFIX rdfs: <http://www.w3.org/2000/01/rdf-schema#>\n",
    "\n",
    "    CONSTRUCT {?x ?q ?y .}\n",
    "    WHERE\n",
    "        {\n",
    "            ?p rdfs:subPropertyOf ?q .\n",
    "            ?x ?p ?y .\n",
    "            \n",
    "    }\n",
    "    \n",
    "    \"\"\"\n",
    ")\n",
    "\n",
    "print (\"The following triples are inferred:\")\n",
    "for row in qres:\n",
    "    print(\" %s         %s             %s\"  % row)"
   ]
  },
  {
   "cell_type": "markdown",
   "metadata": {},
   "source": [
    "***(rdfs3)***\n",
    "\n",
    "If G contains the triples (p rdfs:range x.) and (y p z.) then infer the triple (z rdf:type x .):\n"
   ]
  },
  {
   "cell_type": "code",
   "execution_count": 63,
   "metadata": {},
   "outputs": [
    {
     "name": "stdout",
     "output_type": "stream",
     "text": [
      "The following triples are inferred:\n http://example.com/kad2017/Germany         http://www.w3.org/1999/02/22-rdf-syntax-ns#type             http://example.com/kad2017/Location\n http://example.com/kad2017/Rotterdam         http://www.w3.org/1999/02/22-rdf-syntax-ns#type             http://example.com/kad2017/City\n http://example.com/kad2017/Berlin         http://www.w3.org/1999/02/22-rdf-syntax-ns#type             http://example.com/kad2017/Capital\n"
     ]
    }
   ],
   "source": [
    "qres = g.query(\n",
    "    \n",
    "    \"\"\"\n",
    "    PREFIX ex: <http://example.com/kad2017/>\n",
    "    PREFIX dbp: <http://dbpedia.org/resource/>\n",
    "    PREFIX dbo: <http://dbpedia.org/ontology/>\n",
    "    PREFIX rdfs: <http://www.w3.org/2000/01/rdf-schema#>\n",
    "    PREFIX rdf: <http://www.w3.org/1999/02/22-rdf-syntax-ns#>\n",
    "\n",
    "\n",
    "    CONSTRUCT {?z rdf:type ?x .}\n",
    "    WHERE\n",
    "        {\n",
    "            ?p rdfs:range ?x .\n",
    "            ?y ?p ?z .\n",
    "    }\n",
    "    \n",
    "    \"\"\"\n",
    ")\n",
    "\n",
    "print (\"The following triples are inferred:\")\n",
    "for row in qres:\n",
    "    print(\" %s         %s             %s\"  % row)"
   ]
  },
  {
   "cell_type": "markdown",
   "metadata": {},
   "source": [
    "## Task 3: (3 points) Build your very own RDFS knowledge graph. \n"
   ]
  },
  {
   "cell_type": "markdown",
   "metadata": {},
   "source": [
    "Define a small RDF Schema vocabulary in Turtle. You can choose your own domain.\n",
    "*\tThe schema should define at least 4 classes, 4 properties, and 4 instances.\n",
    "*   The properties should be used to relate the instances\n",
    "*\tThe instances should be a member of your classes\n",
    "*\tAll resources should have an rdfs:label in a suitable language.\n",
    "\n",
    "You should use (at least) the following language features of RDF and RDFS:\n",
    "\n",
    "* \trdf:type (or 'a')\n",
    "* \trdfs:subClassOf\n",
    "* \trdfs:subPropertyOf\n",
    "* \trdfs:domain and rdfs:range\n",
    "*\trdfs:label\n",
    "\n",
    "Be sure to define the 'rdf:' and 'rdfs:' namespace prefixes for RDF and RDF Schema in your file (perhaps have a look at http://prefix.cc)\n",
    "\n",
    "You can either use a text editor, use Snapper (http://jiemakel.github.io/snapper, which is YASGUI-based). You can also  add the axioms directly (programatically) to your Knowledge Graph as you did last week. Play around with the inference rules you have created in the previous task to make sure that you some added some implicit knowledge, that becomes \"visible\" via inferencing. (this will be useful for the next task). \n",
    "\n",
    "Create an RDFLIB graph datastructure *myRDFSgraph* and add your knowledge to the graph. "
   ]
  },
  {
   "cell_type": "markdown",
   "metadata": {},
   "source": [
    "***The Turtle file created using snapper can is copy-pasted below (it is also saves as a .ttl file, which is parsed in the cell afterwards):***"
   ]
  },
  {
   "cell_type": "code",
   "execution_count": null,
   "metadata": {},
   "outputs": [],
   "source": [
    "@prefix ex: <http://example.org/> .\n",
    "@prefix rdfs: <http://www.w3.org/2000/01/rdf-schema#> .\n",
    "@prefix rdf: <http://www.w3.org/1999/02/22-rdf-syntax-ns#> .\n",
    "\n",
    "\n",
    "# CLASSES\n",
    "ex:aparment a rdfs:class ;\n",
    "                rdfs:label \"apartment\"@en ;\n",
    "                rdfs:subClassOf ex:residentialUnit .\n",
    "\n",
    "ex:unit a rdfs:class ;\n",
    "                rdfs:label \"unit\"@en .\n",
    "\n",
    "ex:residentialUnit a rdfs:class ;\n",
    "                rdfs:label \"residential unit\"@en ;\n",
    "                rdfs:subClassOf ex:unit .\n",
    "\n",
    "ex:commercialUnit a rdfs:class ;\n",
    "                rdfs:label \"commercial unit\"@en ;\n",
    "                rdfs:subClassOf ex:unit .\n",
    "\n",
    "ex:person a rdfs:class ;\n",
    "                rdfs:label \"person\"@en .\n",
    "\n",
    "ex:child a rdfs:class ;\n",
    "                rdfs:label \"child\"@en ;\n",
    "                rdfs:subClassOf ex:person .\n",
    "\n",
    "ex:adult a rdfs:class ;\n",
    "                rdfs:label \"adult\"@en ;\n",
    "                rdfs:subClassOf ex:person .\n",
    "\n",
    "ex:company a rdfs:class ;\n",
    "        rdfs:label \"company\" .\n",
    "\n",
    "\n",
    "# PROPERTIES\n",
    "\n",
    "ex:residesAt a rdfs:property ;\n",
    "                rdfs:label \"resides at\"@en ;\n",
    "                rdfs:domain ex:person ;\n",
    "                rdfs:range ex:residentialUnit .\n",
    "\n",
    "ex:rents a rdfs:property ;\n",
    "                rdfs:label \"rents\"@en ;\n",
    "                rdfs:subPropertyOf ex:residesAt .\n",
    "\n",
    "ex:childOf a rdfs:property ;\n",
    "                rdfs:label \"child of\"@en ;\n",
    "                rdfs:subPropertyOf ex:residesWith .\n",
    "\n",
    "\n",
    "ex:parentOf a rdfs:property ;\n",
    "                rdfs:label \"parent of\"@en .\n",
    "\n",
    "ex:worksAt a rdfs:property ;\n",
    "                rdfs:label \"works at\"@en ;\n",
    "                rdfs:domain ex:person ;\n",
    "                rdfs:range ex:commercialUnit .\n",
    "\n",
    "ex:hasOfficeAt a rdfs:property ;\n",
    "                rdfs:label \"has office at\"@en ;\n",
    "                rdfs:domain ex:company ;\n",
    "                rdfs:range ex:commercialUnit ;\n",
    "                rdfs:subPropertyOf ex:leases .\n",
    "\n",
    "ex:leases a rdfs:property ;\n",
    "                rdfs:label \"leases\"@en ;\n",
    "                rdfs:domain ex:company ;\n",
    "                rdfs:range ex:commercialUnit .\n",
    "\n",
    "\n",
    "\n",
    "\n",
    "# INSTANCES\n",
    "ex:John a ex:person ;\n",
    "                rdfs:label \"John\"@en ;\n",
    "                ex:hasChild ex:Grace ;\n",
    "                ex:worksAt ex:Clokman .\n",
    "                \n",
    "\n",
    "ex:Grace a ex:child ;\n",
    "                rdfs:label \"Grace\"@en ;\n",
    "                ex:childOf ex:John.\n",
    "\n",
    "ex:BaronWayApartment a ex:apartment ;\n",
    "                rdfs:label \"Baron Way Apartment\"@en .\n",
    "\n",
    "ex:ZuidOffice a ex:commercialUnit ;\n",
    "                rdfs:label \"Commercial Unit\"@en .\n",
    "\n",
    "\n",
    "\n",
    "# RELATIONSHIPS\n",
    "ex:apartment rdfs:subClassOf ex:residentialUnit .\n",
    "ex:residentialUnit rdfs:subClassOf ex:unit .\n",
    "\n",
    "ex:rents rdfs:subPropertyOf ex:residesAt .\n",
    "ex:rents rdfs:domain ex:person .\n",
    "ex:rents rdfs:range ex:unit .\n",
    "\n",
    "ex:John ex:rents ex:BaronWayApartment .\n",
    "\n",
    "ex:Clokman ex:leases ex:ZuidOffice ."
   ]
  },
  {
   "cell_type": "markdown",
   "metadata": {
    "collapsed": true
   },
   "source": [
    "Serialise your RDF graph *myRDFSgraph* in Turtle, so that we can check your \"design\"."
   ]
  },
  {
   "cell_type": "markdown",
   "metadata": {},
   "source": [
    "***Data structure is created and serialized as below:***"
   ]
  },
  {
   "cell_type": "code",
   "execution_count": 64,
   "metadata": {},
   "outputs": [
    {
     "name": "stdout",
     "output_type": "stream",
     "text": [
      "@prefix ex: <http://example.com/kad2017/> .\n@prefix ex1: <http://example.org/> .\n@prefix rdf: <http://www.w3.org/1999/02/22-rdf-syntax-ns#> .\n@prefix rdfs: <http://www.w3.org/2000/01/rdf-schema#> .\n@prefix xml: <http://www.w3.org/XML/1998/namespace> .\n@prefix xsd: <http://www.w3.org/2001/XMLSchema#> .\n\nex1:adult a rdfs:class ;\n    rdfs:label \"adult\"@en ;\n    rdfs:subClassOf ex1:person .\n\nex1:aparment a rdfs:class ;\n    rdfs:label \"apartment\"@en ;\n    rdfs:subClassOf ex1:residentialUnit .\n\nex1:childOf a rdfs:property ;\n    rdfs:label \"child of\"@en ;\n    rdfs:subPropertyOf ex1:residesWith .\n\nex1:hasOfficeAt a rdfs:property ;\n    rdfs:label \"has office at\"@en ;\n    rdfs:domain ex1:company ;\n    rdfs:range ex1:commercialUnit ;\n    rdfs:subPropertyOf ex1:leases .\n\nex1:parentOf a rdfs:property ;\n    rdfs:label \"parent of\"@en .\n\nex1:rents a rdfs:property ;\n    rdfs:label \"rents\"@en ;\n    rdfs:domain ex1:person ;\n    rdfs:range ex1:unit ;\n    rdfs:subPropertyOf ex1:residesAt .\n\nex1:worksAt a rdfs:property ;\n    rdfs:label \"works at\"@en ;\n    rdfs:domain ex1:person ;\n    rdfs:range ex1:commercialUnit .\n\nex1:BaronWayApartment a ex1:apartment ;\n    rdfs:label \"Baron Way Apartment\"@en .\n\nex1:Clokman ex1:leases ex1:ZuidOffice .\n\nex1:Grace a ex1:child ;\n    rdfs:label \"Grace\"@en ;\n    ex1:childOf ex1:John .\n\nex1:John a ex1:person ;\n    rdfs:label \"John\"@en ;\n    ex1:hasChild ex1:Grace ;\n    ex1:rents ex1:BaronWayApartment ;\n    ex1:worksAt ex1:Clokman .\n\nex1:ZuidOffice a ex1:commercialUnit ;\n    rdfs:label \"Commercial Unit\"@en .\n\nex1:apartment rdfs:subClassOf ex1:residentialUnit .\n\nex1:child a rdfs:class ;\n    rdfs:label \"child\"@en ;\n    rdfs:subClassOf ex1:person .\n\nex1:leases a rdfs:property ;\n    rdfs:label \"leases\"@en ;\n    rdfs:domain ex1:company ;\n    rdfs:range ex1:commercialUnit .\n\nex1:residesAt a rdfs:property ;\n    rdfs:label \"resides at\"@en ;\n    rdfs:domain ex1:person ;\n    rdfs:range ex1:residentialUnit .\n\nex1:company a rdfs:class ;\n    rdfs:label \"company\" .\n\nex1:residentialUnit a rdfs:class ;\n    rdfs:label \"residential unit\"@en ;\n    rdfs:subClassOf ex1:unit .\n\nex1:unit a rdfs:class ;\n    rdfs:label \"unit\"@en .\n\nex1:commercialUnit a rdfs:class ;\n    rdfs:label \"commercial unit\"@en ;\n    rdfs:subClassOf ex1:unit .\n\nex1:person a rdfs:class ;\n    rdfs:label \"person\"@en .\n\n\n"
     ]
    }
   ],
   "source": [
    "from rdflib import Graph, RDF, Namespace, Literal, URIRef\n",
    "myRDFSgraph = Graph()\n",
    "\n",
    "EX = Namespace('http://example.com/kad2017/')   # Define a namespace variable for Python environment...\n",
    "myRDFSgraph.bind('ex',EX)                                 # and bind it to the string 'ex' in graph environment.\n",
    "# Usage:    EX[<Prefix here>]\n",
    "# Example:\n",
    "# EX[\"England\"] # creates a new element \"http://example.com/kad2017/England\"\n",
    "# This is equivalent to:\n",
    "# URIRef(\"http://example.com/kad2017/England\")\n",
    "\n",
    "\n",
    "def serialize():\n",
    "    print myRDFSgraph.serialize(format='turtle')\n",
    "\n",
    "def save(filename):\n",
    "    with open(filename, 'w') as f:\n",
    "        myRDFSgraph.serialize(f, format='turtle')\n",
    "\n",
    "def load(filename):\n",
    "    with open(filename, 'r') as f:\n",
    "        myRDFSgraph.load(f, format='turtle')\n",
    "\n",
    "load('example-from-slides.ttl')     # If using Jupyter, please uncomment this line\n",
    "#load('Assignment 3\\\\john-life.ttl')  # If using PyCharm, please uncomment this line\n",
    "\n",
    "serialize()"
   ]
  },
  {
   "cell_type": "markdown",
   "metadata": {},
   "source": [
    "### Task 4 (2 points) Compare local inferences with Stardog results"
   ]
  },
  {
   "cell_type": "markdown",
   "metadata": {},
   "source": [
    "Upload your own RDF Schema to Stardog (go to http://localhost:5820 but make sure you have it running first!), and  access it using http://localhost:5820\n",
    "\n",
    "Try to formulate a SPARQL query that queries your schema and some of its instances. Make sure that you write \"interesting\" queries that allow you to see a difference between the query results with inferencing and without inferencing. \n",
    "\n",
    "Try the query with and without inferencing (you can easily switch inferencing on and off if you use the Stardog query interface)\n",
    "\n",
    "Tip: first write and test your query using Legacy YASGUI (http://legacy.yasgui.org) and the SPARQL endpoint of your own Stardog triplestore (http://localhost:5820/YOURDATABASENAME/query). Then copy the query to the Stardog-provided query interface, to test it with inferencing.\n",
    "\n",
    "Provide the query in the Jupyter Notebook\n"
   ]
  },
  {
   "cell_type": "markdown",
   "metadata": {},
   "source": [
    "***Query 1:***"
   ]
  },
  {
   "cell_type": "code",
   "execution_count": null,
   "metadata": {
    "collapsed": true
   },
   "outputs": [],
   "source": [
    "# When reasoner is on, this query returns where John resides at, and it does not when the reasoner is off (or on YASGUI). 'residesAt' is inferred from the 'rents' property and its subProperty relationship to 'residesAt') \n",
    "\n",
    "PREFIX ex: <http://example.org/>\n",
    "\n",
    "SELECT ?o\n",
    "WHERE { \n",
    "  ex:John ex:residesAt ?o\n",
    "}"
   ]
  },
  {
   "cell_type": "markdown",
   "metadata": {},
   "source": [
    "***Query 2:***"
   ]
  },
  {
   "cell_type": "code",
   "execution_count": null,
   "metadata": {},
   "outputs": [],
   "source": [
    "# When reasoner is off/on YASGUI, this query returns only one binding (ex:apartment). While it is on (on Stardog), returns four results regarding (super)classes of BaronWayApartment. The reasoning is based on class relationships (weak inference). \n",
    "\n",
    "PREFIX ex: <http://example.org/>\n",
    "\n",
    "SELECT ?o\n",
    "WHERE { \n",
    "  ex:BaronWayApartment a ?o\n",
    "}"
   ]
  },
  {
   "cell_type": "markdown",
   "metadata": {},
   "source": [
    "***Query 3:***"
   ]
  },
  {
   "cell_type": "code",
   "execution_count": null,
   "metadata": {},
   "outputs": [],
   "source": [
    "# When reasoner is off, this query returns only the fact that 'Clokman' leases 'ZuidOffice'. However, when the reasoner is on, it is also returned by way of inference that Clokman is a company. This is inferred from range and domain restrictions of the 'leases' property. \n",
    "\n",
    "PREFIX ex: <http://example.org/>\n",
    "\n",
    "SELECT ?p ?o\n",
    "WHERE { \n",
    "  ex:Clokman ?p ?o\n",
    "}"
   ]
  },
  {
   "cell_type": "markdown",
   "metadata": {},
   "source": [
    "***Query 4:***"
   ]
  },
  {
   "cell_type": "code",
   "execution_count": null,
   "metadata": {},
   "outputs": [],
   "source": [
    "# When reasoner is off, this query returns only the facts that Grace is a child of John and she is a 'child'. When the reasoner is on, however, it returns that facts that she resides with John (inferred from 'childOf' is a subproperty of 'residesWith' [in a simplistic scenario]), and is a 'person' (inferred from 'child' being a subclass of 'person').\n",
    "PREFIX ex: <http://example.org/>\n",
    "\n",
    "SELECT ?p ?o\n",
    "WHERE { \n",
    "  ex:Grace ?p ?o\n",
    "}"
   ]
  }
 ],
 "metadata": {
  "kernelspec": {
   "display_name": "Python 2",
   "language": "python",
   "name": "python2"
  },
  "language_info": {
   "codemirror_mode": {
    "name": "ipython",
    "version": 2.0
   },
   "file_extension": ".py",
   "mimetype": "text/x-python",
   "name": "python",
   "nbconvert_exporter": "python",
   "pygments_lexer": "ipython2",
   "version": "2.7.10"
  }
 },
 "nbformat": 4,
 "nbformat_minor": 0
}