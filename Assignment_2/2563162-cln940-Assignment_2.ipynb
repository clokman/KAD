{
 "cells": [
  {
   "cell_type": "markdown",
   "metadata": {
    "collapsed": true
   },
   "source": [
    "# Knowledge and Data 2017: Second practical assignment \n",
    "## Manipulate local and external RDF Data "
   ]
  },
  {
   "cell_type": "markdown",
   "metadata": {},
   "source": [
    "Your name: **Can (John) Lokman**\n",
    "\n",
    "Your VUNetID: **cln940** Student Number: **2563162**\n",
    "\n",
    "If you do not provide your name and VUNetID we will not accept your submission. "
   ]
  },
  {
   "cell_type": "markdown",
   "metadata": {},
   "source": [
    "### Learning objectives"
   ]
  },
  {
   "cell_type": "markdown",
   "metadata": {},
   "source": [
    "At the end of this exercise you should be able to perform some simple manipulations of RDF Data using the rdflib library. You should be able to \n",
    "\n",
    "1. add and retrieve information from a local RDF database\n",
    "2. represent RDF data in other formats, such as the .dot format for graph visualisation\n",
    "3. retrieve information from an RDF database created from Web Data\n",
    "4. query information from the Web with SPARQL\n"
   ]
  },
  {
   "cell_type": "markdown",
   "metadata": {},
   "source": [
    "### Practicalities"
   ]
  },
  {
   "cell_type": "markdown",
   "metadata": {},
   "source": [
    "Follow this Notebook step-by-step. \n",
    "\n",
    "Of course, you can do the exercises in any Programming Editor of your liking. \n",
    "But you do not have to. Feel free to simply write code in the Notebook. When \n",
    "everything is filled in and works, safe the Notebook and submit it \n",
    "as a Jupyter Notebook, i.e. with an ipynb extension. Please use as name of the \n",
    "Notebook your studentID+Assignment2.ipynb.  \n",
    "\n",
    "Other than in courses dedicated to programming we will not evaluate the style\n",
    "of the programs. But we will test your programs on other data than we provide, \n",
    "and your program should give the correct answers to those test-data as well. "
   ]
  },
  {
   "cell_type": "markdown",
   "metadata": {},
   "source": [
    "## Exercises related to local RDF"
   ]
  },
  {
   "cell_type": "markdown",
   "metadata": {},
   "source": [
    "This first cell will open a file 'example-from-slide.ttl' using the rdflib library. The first Practical Assignment should have taught you that manipulating symbols as strings is a major pain. Programming libraries, such as rdflib, help you with mess once and for all, by parsing the files, creating appropriate datastructures (Graph()) and providing useful functions (such as serialize(), save() and much more. Check the website of rdflib http://rdflib.readthedocs.io/: this library does most of the hard work for you. "
   ]
  },
  {
   "cell_type": "code",
   "execution_count": 2,
   "metadata": {
    "collapsed": true
   },
   "outputs": [],
   "source": [
    "from rdflib import Graph, RDF, Namespace, Literal, URIRef\n",
    "\n",
    "g = Graph()\n",
    "\n",
    "EX = Namespace('http://example.com/kad2017/')   # Define a namespace variable for Python environment... \n",
    "g.bind('ex',EX)                                 # and bind it to the string 'ex' in graph environment.\n",
    "# Usage:    EX[<Prefix here>]\n",
    "# Example: \n",
    "# EX[\"England\"] # creates a new element \"http://example.com/kad2017/England\"\n",
    "# This is equivalent to: \n",
    "# URIRef(\"http://example.com/kad2017/England\") \n",
    "\n",
    "\n",
    "def serialize():\n",
    "    print g.serialize(format='turtle')\n",
    "\n",
    "def save(filename):\n",
    "    with open(filename, 'w') as f:\n",
    "        g.serialize(f, format='turtle')\n",
    "        \n",
    "def load(filename):\n",
    "    with open(filename, 'r') as f:\n",
    "        g.load(f, format='turtle')"
   ]
  },
  {
   "cell_type": "markdown",
   "metadata": {},
   "source": [
    "The file 'example-from-slides.ttl' formalises the knowledge base from the slides from Module 1, and a bit more. \n",
    "\n",
    "Here is how it looks when you load it into your program and serialise it with rdflib in turtle. "
   ]
  },
  {
   "cell_type": "code",
   "execution_count": 4,
   "metadata": {
    "collapsed": true
   },
   "outputs": [
    {
     "name": "stdout",
     "output_type": "stream",
     "text": [
      "@prefix dbo: <http://dbpedia.org/ontology/> .\n@prefix dbr: <http://dbpedia.org/resource/> .\n@prefix ex: <http://example.com/kad2017/> .\n@prefix rdf: <http://www.w3.org/1999/02/22-rdf-syntax-ns#> .\n@prefix rdfs: <http://www.w3.org/2000/01/rdf-schema#> .\n@prefix xml: <http://www.w3.org/XML/1998/namespace> .\n@prefix xsd: <http://www.w3.org/2001/XMLSchema#> .\n\nex:Germany a ex:EuropeanCountry .\n\nex:Netherlands a ex:Country ;\n    ex:has_Capital ex:Amsterdam ;\n    ex:has_Name \"TheNetherlands\" ;\n    ex:neighbours ex:Belgium .\n\nex:hasCapital rdfs:range ex:Capital ;\n    rdfs:subPropertyOf ex:containsCity .\n\nex:Amsterdam a ex:Capital .\n\nex:Belgium a ex:Country .\n\nex:EuropeanCountry rdfs:subClassOf ex:Country .\n\nex:containsCity rdfs:domain ex:Country ;\n    rdfs:range ex:City .\n\nex:Capital rdfs:subClassOf ex:City .\n\n\n"
     ]
    },
    {
     "name": "stderr",
     "output_type": "stream",
     "text": [
      "No handlers could be found for logger \"rdflib.term\"\n"
     ]
    }
   ],
   "source": [
    "#load('example-from-slides.ttl')                 # If using Jupyter, please uncomment this line\n",
    "load('Assignment 2\\\\example-from-slides.ttl')  # If using PyCharm, please uncomment this line\n",
    "\n",
    "serialize()"
   ]
  },
  {
   "cell_type": "markdown",
   "metadata": {},
   "source": [
    "Now, we can manipulate, the graph very easily, e.g. like in the following very simple function: "
   ]
  },
  {
   "cell_type": "code",
   "execution_count": 5,
   "metadata": {
    "collapsed": true
   },
   "outputs": [
    {
     "name": "stdout",
     "output_type": "stream",
     "text": [
      "http://www.w3.org/2000/01/rdf-schema#range\nhttp://www.w3.org/2000/01/rdf-schema#domain\nhttp://example.com/kad2017/neighbours\nhttp://example.com/kad2017/has_Capital\nhttp://www.w3.org/1999/02/22-rdf-syntax-ns#type\nhttp://www.w3.org/2000/01/rdf-schema#subClassOf\nhttp://www.w3.org/1999/02/22-rdf-syntax-ns#type\nhttp://www.w3.org/2000/01/rdf-schema#subClassOf\nhttp://www.w3.org/2000/01/rdf-schema#range\nhttp://www.w3.org/1999/02/22-rdf-syntax-ns#type\nhttp://example.com/kad2017/has_Name\nhttp://www.w3.org/2000/01/rdf-schema#subPropertyOf\nhttp://www.w3.org/1999/02/22-rdf-syntax-ns#type\n"
     ]
    }
   ],
   "source": [
    "for s,p,o in g:\n",
    "    print p"
   ]
  },
  {
   "cell_type": "markdown",
   "metadata": {},
   "source": [
    "### Task 1a) (1 Point) Add information to an RDF graph"
   ]
  },
  {
   "cell_type": "markdown",
   "metadata": {},
   "source": [
    "Add 10 triples to the knowledge graph. Make sure that they have the right namespaces: \n",
    "\n",
    "http://rdflib.readthedocs.io/en/stable/intro_to_creating_rdf.html\n",
    "\n",
    "Add at least a new country and its capital, as well as at least one triple with a new predicate. "
   ]
  },
  {
   "cell_type": "code",
   "execution_count": 4,
   "metadata": {
    "collapsed": true
   },
   "outputs": [],
   "source": [
    "# Your code here.\n",
    "country = URIRef(\"http://example.com/kad2017/Country\")\n",
    "united_Kingdom = URIRef(\"http://example.com/kad2017/UnitedKingdom\") \n",
    "# The same statement can also be written as following:\n",
    "# unitedKingdom = EX[\"UnitedKingdom\"] \n",
    "# This notation will be followed from now on when creating new triples.\n",
    "\n",
    "g.add( (united_Kingdom, RDF.type, country) )\n",
    "g.add( (united_Kingdom, EX[\"has_Name\"], Literal(\"United Kingdom\")) )\n",
    "g.add( (united_Kingdom, EX[\"same_As\"], EX[\"England\"]) )\n",
    "g.add( (united_Kingdom, EX[\"same_As\"], EX[\"UK\"]) )\n",
    "g.add( (united_Kingdom, RDF.type, EX[\"Country\"]) )\n",
    "\n",
    "g.add( (EX[\"London\"], RDF.type, EX[\"City\"]) )\n",
    "g.add( (EX[\"London\"], EX[\"has_Name\"], Literal(\"London\")) )\n",
    "g.add( (EX[\"UK\"], EX[\"has_Capital\"], EX[\"London\"]) )\n",
    "g.add( (EX[\"London\"], EX[\"capital_Of\"], EX[\"United Kingdom\"]) )\n",
    "\n",
    "g.add( (EX[\"capital_Of\"], EX[\"range\"], EX[\"Country\"]) )"
   ]
  },
  {
   "cell_type": "markdown",
   "metadata": {},
   "source": [
    "After you ran this code (adding triples) the next cells will be executed on your extended graph. That is ok. "
   ]
  },
  {
   "cell_type": "markdown",
   "metadata": {},
   "source": [
    "### Task 1b) (1 Point) Get structured information from an RDF graph  "
   ]
  },
  {
   "cell_type": "markdown",
   "metadata": {},
   "source": [
    "Use the functions available in the RDFLib library. Write a small function to print all Literals. Hint: there is a function in rdflib to test the type of an object. "
   ]
  },
  {
   "cell_type": "code",
   "execution_count": 5,
   "metadata": {
    "collapsed": true
   },
   "outputs": [
    {
     "name": "stdout",
     "output_type": "stream",
     "text": [
      "London\nTheNetherlands\nUnited Kingdom\n"
     ]
    }
   ],
   "source": [
    "for s,p,o in g:\n",
    "    if type(o)==Literal:\n",
    "        print (o)"
   ]
  },
  {
   "cell_type": "markdown",
   "metadata": {},
   "source": [
    "Please provide another function that gives a unique list of the predicates, ordered by occurrence (most occurring first). The answer will look like this: \n",
    "<br>http://www.w3.org/2000/01/rdf-schema#label\n",
    "<br>http://www.w3.org/1999/02/22-rdf-syntax-ns#type\n",
    "<br>http://example.com/sw2016/locatedIn\n",
    "<br>http://www.w3.org/2000/01/rdf-schema#range"
   ]
  },
  {
   "cell_type": "code",
   "execution_count": 6,
   "metadata": {
    "collapsed": false
   },
   "outputs": [
    {
     "name": "stdout",
     "output_type": "stream",
     "text": [
      "5 times:  http://www.w3.org/1999/02/22-rdf-syntax-ns#type\n2 times:  http://example.com/kad2017/has_Name\n1 times:  http://www.w3.org/2000/01/rdf-schema#range\n1 times:  http://example.com/kad2017/has_Capital\n1 times:  http://example.com/kad2017/same_As\n1 times:  http://www.w3.org/2000/01/rdf-schema#subClassOf\n0 times:  http://www.w3.org/2000/01/rdf-schema#domain\n0 times:  http://example.com/kad2017/capital_Of\n0 times:  http://example.com/kad2017/range\n0 times:  http://example.com/kad2017/neighbours\n0 times:  http://www.w3.org/2000/01/rdf-schema#subPropertyOf\n"
     ]
    }
   ],
   "source": [
    "predicateCounts = {}\n",
    "for s,p,o in g:\n",
    "    ### your code here:\n",
    "    if p in predicateCounts:\n",
    "        predicateCounts[p] += 1\n",
    "    elif p not in predicateCounts:\n",
    "        predicateCounts[p] = 0\n",
    "predicateCountsSorted = sorted(predicateCounts.items(), key=lambda x: x[1])\n",
    "predicateCountsSorted.reverse()\n",
    "\n",
    "for each_pair in predicateCountsSorted:\n",
    "    print str(each_pair[1]) + \" times:  \" + each_pair[0]"
   ]
  },
  {
   "cell_type": "markdown",
   "metadata": {
    "collapsed": true
   },
   "source": [
    "### Task 2) An RDF syntaxes for Graph visualisations "
   ]
  },
  {
   "cell_type": "markdown",
   "metadata": {},
   "source": [
    "### Task 2a): (1 Points) From RDF to .dot \n"
   ]
  },
  {
   "cell_type": "markdown",
   "metadata": {},
   "source": [
    "In the lecture, we have seen two ways of writing a knowledge graph (simple n-triples, and simple turtle). Let us consider a 3rd syntax, this time a syntax that is useful for visualisation. One standard for visualising graphs is the .dot format.\n",
    "\n",
    "Print the knowledge graph in .dot file format. Check http://www.graphviz.org/Documentation/dotguide.pdf for the documentation. You will only need very little of this information, and the most relevant information can be found in the examples that are given. \n",
    "\n",
    "<br>Basically, an RDF graph in .dot format starts with \n",
    "<br>digraph G { \n",
    "    and then a list of linkes of the following form \n",
    "<br>s -> o [label=\"p\"]\n",
    "    for every (s p o ) in KG (separated by ;\n",
    "<br>Do not forget to end with a closing bracket. }\n",
    "\n",
    "An example is \n",
    "     \n",
    "     digraph G { s1 -> o1 [label=\"p1\"] ; s2 -> o2 [label=\"p2\"] } \n",
    "     \n",
    "for an RDF graph {(s1 p1 o1),(s2 p2 o2)}"
   ]
  },
  {
   "cell_type": "code",
   "execution_count": 7,
   "metadata": {
    "collapsed": false
   },
   "outputs": [
    {
     "name": "stdout",
     "output_type": "stream",
     "text": [
      "digraph G { \"http://example.com/kad2017/Netherlands\" -> \"http://example.com/kad2017/Amsterdam\" [label=\"http://example.com/kad2017/has_Capital\"] ;  \"http://example.com/kad2017/containsCity\" -> \"http://example.com/kad2017/Country\" [label=\"http://www.w3.org/2000/01/rdf-schema#domain\"] ;  \"http://example.com/kad2017/UnitedKingdom\" -> \"http://example.com/kad2017/England\" [label=\"http://example.com/kad2017/same_As\"] ;  \"http://example.com/kad2017/Netherlands\" -> \"http://example.com/kad2017/Country\" [label=\"http://www.w3.org/1999/02/22-rdf-syntax-ns#type\"] ;  \"http://example.com/kad2017/UnitedKingdom\" -> \"http://example.com/kad2017/UK\" [label=\"http://example.com/kad2017/same_As\"] ;  \"http://example.com/kad2017/Germany\" -> \"http://example.com/kad2017/EuropeanCountry\" [label=\"http://www.w3.org/1999/02/22-rdf-syntax-ns#type\"] ;  \"http://example.com/kad2017/London\" -> \"London\" [label=\"http://example.com/kad2017/has_Name\"] ;  \"http://example.com/kad2017/containsCity\" -> \"http://example.com/kad2017/City\" [label=\"http://www.w3.org/2000/01/rdf-schema#range\"] ;  \"http://example.com/kad2017/Netherlands\" -> \"TheNetherlands\" [label=\"http://example.com/kad2017/has_Name\"] ;  \"http://example.com/kad2017/capital_Of\" -> \"http://example.com/kad2017/Country\" [label=\"http://example.com/kad2017/range\"] ;  \"http://example.com/kad2017/Capital\" -> \"http://example.com/kad2017/City\" [label=\"http://www.w3.org/2000/01/rdf-schema#subClassOf\"] ;  \"http://example.com/kad2017/Netherlands\" -> \"http://example.com/kad2017/Belgium\" [label=\"http://example.com/kad2017/neighbours\"] ;  \"http://example.com/kad2017/UnitedKingdom\" -> \"http://example.com/kad2017/Country\" [label=\"http://www.w3.org/1999/02/22-rdf-syntax-ns#type\"] ;  \"http://example.com/kad2017/hasCapital\" -> \"http://example.com/kad2017/Capital\" [label=\"http://www.w3.org/2000/01/rdf-schema#range\"] ;  \"http://example.com/kad2017/UK\" -> \"http://example.com/kad2017/London\" [label=\"http://example.com/kad2017/has_Capital\"] ;  \"http://example.com/kad2017/hasCapital\" -> \"http://example.com/kad2017/containsCity\" [label=\"http://www.w3.org/2000/01/rdf-schema#subPropertyOf\"] ;  \"http://example.com/kad2017/Belgium\" -> \"http://example.com/kad2017/Country\" [label=\"http://www.w3.org/1999/02/22-rdf-syntax-ns#type\"] ;  \"http://example.com/kad2017/UnitedKingdom\" -> \"United Kingdom\" [label=\"http://example.com/kad2017/has_Name\"] ;  \"http://example.com/kad2017/London\" -> \"http://example.com/kad2017/City\" [label=\"http://www.w3.org/1999/02/22-rdf-syntax-ns#type\"] ;  \"http://example.com/kad2017/EuropeanCountry\" -> \"http://example.com/kad2017/Country\" [label=\"http://www.w3.org/2000/01/rdf-schema#subClassOf\"] ;  \"http://example.com/kad2017/London\" -> \"http://example.com/kad2017/United Kingdom\" [label=\"http://example.com/kad2017/capital_Of\"] ;  \"http://example.com/kad2017/Amsterdam\" -> \"http://example.com/kad2017/Capital\" [label=\"http://www.w3.org/1999/02/22-rdf-syntax-ns#type\"] ;  \"http://example.com/kad2017/Netherlands\" -> \"http://example.com/kad2017/Amsterdam\" [label=\"http://example.com/kad2017/has_Capital\"] ;  \"http://example.com/kad2017/containsCity\" -> \"http://example.com/kad2017/Country\" [label=\"http://www.w3.org/2000/01/rdf-schema#domain\"] ;  \"http://example.com/kad2017/UnitedKingdom\" -> \"http://example.com/kad2017/England\" [label=\"http://example.com/kad2017/same_As\"] ;  \"http://example.com/kad2017/Netherlands\" -> \"http://example.com/kad2017/Country\" [label=\"http://www.w3.org/1999/02/22-rdf-syntax-ns#type\"] ;  \"http://example.com/kad2017/UnitedKingdom\" -> \"http://example.com/kad2017/UK\" [label=\"http://example.com/kad2017/same_As\"] ;  \"http://example.com/kad2017/Germany\" -> \"http://example.com/kad2017/EuropeanCountry\" [label=\"http://www.w3.org/1999/02/22-rdf-syntax-ns#type\"] ;  \"http://example.com/kad2017/London\" -> \"London\" [label=\"http://example.com/kad2017/has_Name\"] ;  \"http://example.com/kad2017/containsCity\" -> \"http://example.com/kad2017/City\" [label=\"http://www.w3.org/2000/01/rdf-schema#range\"] ;  \"http://example.com/kad2017/Netherlands\" -> \"TheNetherlands\" [label=\"http://example.com/kad2017/has_Name\"] ;  \"http://example.com/kad2017/capital_Of\" -> \"http://example.com/kad2017/Country\" [label=\"http://example.com/kad2017/range\"] ;  \"http://example.com/kad2017/Capital\" -> \"http://example.com/kad2017/City\" [label=\"http://www.w3.org/2000/01/rdf-schema#subClassOf\"] ;  \"http://example.com/kad2017/Netherlands\" -> \"http://example.com/kad2017/Belgium\" [label=\"http://example.com/kad2017/neighbours\"] ;  \"http://example.com/kad2017/UnitedKingdom\" -> \"http://example.com/kad2017/Country\" [label=\"http://www.w3.org/1999/02/22-rdf-syntax-ns#type\"] ;  \"http://example.com/kad2017/hasCapital\" -> \"http://example.com/kad2017/Capital\" [label=\"http://www.w3.org/2000/01/rdf-schema#range\"] ;  \"http://example.com/kad2017/UK\" -> \"http://example.com/kad2017/London\" [label=\"http://example.com/kad2017/has_Capital\"] ;  \"http://example.com/kad2017/hasCapital\" -> \"http://example.com/kad2017/containsCity\" [label=\"http://www.w3.org/2000/01/rdf-schema#subPropertyOf\"] ;  \"http://example.com/kad2017/Belgium\" -> \"http://example.com/kad2017/Country\" [label=\"http://www.w3.org/1999/02/22-rdf-syntax-ns#type\"] ;  \"http://example.com/kad2017/UnitedKingdom\" -> \"United Kingdom\" [label=\"http://example.com/kad2017/has_Name\"] ;  \"http://example.com/kad2017/London\" -> \"http://example.com/kad2017/City\" [label=\"http://www.w3.org/1999/02/22-rdf-syntax-ns#type\"] ;  \"http://example.com/kad2017/EuropeanCountry\" -> \"http://example.com/kad2017/Country\" [label=\"http://www.w3.org/2000/01/rdf-schema#subClassOf\"] ;  \"http://example.com/kad2017/London\" -> \"http://example.com/kad2017/United Kingdom\" [label=\"http://example.com/kad2017/capital_Of\"] ;  \"http://example.com/kad2017/Amsterdam\" -> \"http://example.com/kad2017/Capital\" [label=\"http://www.w3.org/1999/02/22-rdf-syntax-ns#type\"] }\n"
     ]
    }
   ],
   "source": [
    "# Your code here.\n",
    "\n",
    "# Format example (as string):\n",
    "# 'digraph G { s1 -> o1 [label=\"p1\"] ; s2 -> o2 [label=\"p2\"] }'\n",
    "\n",
    "dotTriplesList = []\n",
    "for s, p, o in g:\n",
    "    dotTriple = str(\"\\\"\" + s + \"\\\"\" + \" -> \" + \"\\\"\" + o + \"\\\"\" + \" [label=\\\"\" + p + \"\\\"]\")\n",
    "    dotTriplesList.append(dotTriple)\n",
    "\n",
    "# Quick and dirty replacements without using regex due to time constraints.\n",
    "dotTriplesString = repr(dotTriplesList)\n",
    "dot_format_string = dotTriplesString.replace(\"\\'\", \"\")\n",
    "dot_format_string = dot_format_string.replace(\",\", \" ; \")\n",
    "dot_format_string = dot_format_string[1:] + \\\n",
    "                                           dot_format_string[:len(dot_format_string)-1]\n",
    "\n",
    "# Fixing some strange bug ungracefully due to time contstaints. This bug has to do with double brackets appearing.\n",
    "dot_format_string = dot_format_string.replace(\"]]\", \"] ; \")\n",
    "dot_format_string = dot_format_string.replace(\"[[\", \"\")\n",
    "dot_format_string = dot_format_string.replace(\"[\\\"http\", \" \\\"http\")\n",
    "\n",
    "\n",
    "pre  = \"digraph G { \"\n",
    "post = \" }\"\n",
    "\n",
    "dot_format_string = pre + dot_format_string + post\n",
    "print(dot_format_string)"
   ]
  },
  {
   "cell_type": "markdown",
   "metadata": {},
   "source": [
    "You can check how your graph looks like. Just copy&paste your output into, e.g.,  http://www.webgraphviz.com/"
   ]
  },
  {
   "cell_type": "markdown",
   "metadata": {},
   "source": [
    "### Task 2b) (1 Point) From RDF to .dot with \"semantic information\""
   ]
  },
  {
   "cell_type": "markdown",
   "metadata": {},
   "source": [
    "There is a conceptual distinction between properties, instances and classes (sets of instances). A simple way of checking is the following\n",
    "\n",
    "1. in a triple (s a o), with predicate a (which is a special abbreviation for the predicate rdf:type), the s is an Instance, and o is a Class. \n",
    "2. in a triple (s rdfs:subClassOf o) both s and o are Classes. \n",
    "3. in a triple (p rdfs:domain o) p is a Property and o is a Class. \n",
    "4. in a triple (p rdfs:range o)  p is a Property and o is a Class. \n",
    "\n",
    "Make a .dot representation for an RDF graph that distinguishes between types of links (RDF vocabulary vs others) and types of nodes (Classes versus Instances) via different colors. "
   ]
  },
  {
   "cell_type": "code",
   "execution_count": 8,
   "metadata": {
    "collapsed": false
   },
   "outputs": [],
   "source": [
    "# your code here\n",
    "\n",
    "def color_predicate(input_string, target_uri, new_color):\n",
    "    colored_string = input_string.replace(\"[label=\\\"\" + target_uri  + \"\\\"]\", \n",
    "                                          \"[label=\\\"\" + target_uri  + \"\\\"]\" \\\n",
    "                                                                           + \"[color=\\\"\" + new_color + \"\\\"]\")\n",
    "    return colored_string\n",
    "\n",
    "# Type\n",
    "colored_dot_format_string = color_predicate(dot_format_string, \"http://www.w3.org/1999/02/22-rdf-syntax-ns#type\", \"blue\")\n",
    "#Subclass of\n",
    "colored_dot_format_string = color_predicate(colored_dot_format_string, \"http://www.w3.org/2000/01/rdf-schema#subClassOf\", \"blue\")\n",
    "# Range\n",
    "colored_dot_format_string = color_predicate(colored_dot_format_string, \"http://www.w3.org/2000/01/rdf-schema#range\", \"blue\")\n",
    "# Domain\n",
    "colored_dot_format_string = color_predicate(colored_dot_format_string, \"http://www.w3.org/2000/01/rdf-schema#domain\", \"blue\")\n",
    "# Subproperty of\n",
    "colored_dot_format_string = color_predicate(colored_dot_format_string, \"http://www.w3.org/2000/01/rdf-schema#subPropertyOf\", \"blue\")\n",
    "\n",
    "# Has name\n",
    "colored_dot_format_string = color_predicate(colored_dot_format_string, \"http://example.com/kad2017/has_Name\", \"green\")\n",
    "# Capital of\n",
    "colored_dot_format_string = color_predicate(colored_dot_format_string, \"http://example.com/kad2017/capital_Of\", \"green\")\n",
    "# Range\n",
    "colored_dot_format_string = color_predicate(colored_dot_format_string, \"http://example.com/kad2017/range\", \"green\")\n",
    "# Has capital\n",
    "colored_dot_format_string = color_predicate(colored_dot_format_string, \"http://example.com/kad2017/has_Capital\", \"green\")\n",
    "# Neighbours\n",
    "colored_dot_format_string = color_predicate(colored_dot_format_string, \"http://example.com/kad2017/neighbours\", \"green\")\n",
    "# Same as\n",
    "colored_dot_format_string = color_predicate(colored_dot_format_string, \"http://example.com/kad2017/same_As\", \"green\")\n",
    "\n",
    "print (colored_dot_format_string)"
   ]
  },
  {
   "cell_type": "markdown",
   "metadata": {},
   "source": [
    "### Task 3) (2 Points) Visualising implicit knowledge (a bit of schema)\n",
    "\n",
    "We will look into Schema information in the latter modules, but let us try already to find some implicit information in a first bit of inferencing: whenever there are two statements (s a o) and (o rdfs:subClassOf o2) we can derive (and later prove) that (s a o2). \n",
    "\n",
    "Write a procedure that adds all implied triples for our knowledge base. \n",
    "\n",
    "Produce a .dot version of the graph with those implies implicit triples, and mark the edges of those triples with a different color or arrow style. "
   ]
  },
  {
   "cell_type": "code",
   "execution_count": 9,
   "metadata": {
    "collapsed": true
   },
   "outputs": [
    {
     "name": "stdout",
     "output_type": "stream",
     "text": [
      "[[rdflib.term.URIRef(u'http://example.com/kad2017/Germany'),\n  rdflib.term.URIRef(u'http://www.w3.org/1999/02/22-rdf-syntax-ns#type'),\n  rdflib.term.URIRef(u'http://example.com/kad2017/Country')],\n [rdflib.term.URIRef(u'http://example.com/kad2017/Amsterdam'),\n  rdflib.term.URIRef(u'http://www.w3.org/1999/02/22-rdf-syntax-ns#type'),\n  rdflib.term.URIRef(u'http://example.com/kad2017/City')]]\n"
     ]
    }
   ],
   "source": [
    "# your code here\n",
    "superclasses    = []\n",
    "subclasses      = []\n",
    "\n",
    "# List superclasses\n",
    "for s,p,o in g:\n",
    "    if \"http://www.w3.org/2000/01/rdf-schema#subClassOf\" in p: \n",
    "        superclasses.append(o)\n",
    "        subclasses.append(s)\n",
    "\n",
    "# Whenever there are two statements (s a o) and (o rdfs:subClassOf o2), derive that (s a o2)\n",
    "inferred_node_registry = []\n",
    "for s,p,o in g:\n",
    "    if \"http://www.w3.org/1999/02/22-rdf-syntax-ns#type\" in p and o in subclasses:\n",
    "        for i, each_item in enumerate(subclasses):\n",
    "            if each_item is o:\n",
    "                g.add( (s, p, superclasses[i]) )\n",
    "                inferred_node_registry.append([s, p, superclasses[i]])\n",
    "\n",
    "from pprint import pprint as pprint\n",
    "pprint (inferred_node_registry)"
   ]
  },
  {
   "cell_type": "code",
   "execution_count": 10,
   "metadata": {
    "collapsed": false
   },
   "outputs": [
    {
     "name": "stdout",
     "output_type": "stream",
     "text": [
      "digraph G { \"http://example.com/kad2017/Netherlands\" -> \"http://example.com/kad2017/Amsterdam\" [label=\"http://example.com/kad2017/has_Capital\"][color=\"green\"] ;  \"http://example.com/kad2017/containsCity\" -> \"http://example.com/kad2017/Country\" [label=\"http://www.w3.org/2000/01/rdf-schema#domain\"][color=\"blue\"] ;  \"http://example.com/kad2017/UnitedKingdom\" -> \"http://example.com/kad2017/England\" [label=\"http://example.com/kad2017/same_As\"][color=\"green\"] ;  \"http://example.com/kad2017/Netherlands\" -> \"http://example.com/kad2017/Country\" [label=\"http://www.w3.org/1999/02/22-rdf-syntax-ns#type\"][color=\"blue\"] ;  \"http://example.com/kad2017/UnitedKingdom\" -> \"http://example.com/kad2017/UK\" [label=\"http://example.com/kad2017/same_As\"][color=\"green\"] ;  \"http://example.com/kad2017/Germany\" -> \"http://example.com/kad2017/EuropeanCountry\" [label=\"http://www.w3.org/1999/02/22-rdf-syntax-ns#type\"][color=\"blue\"] ;  \"http://example.com/kad2017/London\" -> \"London\" [label=\"http://example.com/kad2017/has_Name\"][color=\"green\"] ;  \"http://example.com/kad2017/containsCity\" -> \"http://example.com/kad2017/City\" [label=\"http://www.w3.org/2000/01/rdf-schema#range\"][color=\"blue\"] ;  \"http://example.com/kad2017/Netherlands\" -> \"TheNetherlands\" [label=\"http://example.com/kad2017/has_Name\"][color=\"green\"] ;  \"http://example.com/kad2017/Germany\" -> \"http://example.com/kad2017/Country\" [label=\"http://www.w3.org/1999/02/22-rdf-syntax-ns#type\"][color=\"red\"] ;  \"http://example.com/kad2017/capital_Of\" -> \"http://example.com/kad2017/Country\" [label=\"http://example.com/kad2017/range\"][color=\"green\"] ;  \"http://example.com/kad2017/Capital\" -> \"http://example.com/kad2017/City\" [label=\"http://www.w3.org/2000/01/rdf-schema#subClassOf\"][color=\"blue\"] ;  \"http://example.com/kad2017/Netherlands\" -> \"http://example.com/kad2017/Belgium\" [label=\"http://example.com/kad2017/neighbours\"][color=\"green\"] ;  \"http://example.com/kad2017/UnitedKingdom\" -> \"http://example.com/kad2017/Country\" [label=\"http://www.w3.org/1999/02/22-rdf-syntax-ns#type\"][color=\"blue\"] ;  \"http://example.com/kad2017/hasCapital\" -> \"http://example.com/kad2017/Capital\" [label=\"http://www.w3.org/2000/01/rdf-schema#range\"][color=\"blue\"] ;  \"http://example.com/kad2017/UK\" -> \"http://example.com/kad2017/London\" [label=\"http://example.com/kad2017/has_Capital\"][color=\"green\"] ;  \"http://example.com/kad2017/hasCapital\" -> \"http://example.com/kad2017/containsCity\" [label=\"http://www.w3.org/2000/01/rdf-schema#subPropertyOf\"][color=\"blue\"] ;  \"http://example.com/kad2017/Belgium\" -> \"http://example.com/kad2017/Country\" [label=\"http://www.w3.org/1999/02/22-rdf-syntax-ns#type\"][color=\"blue\"] ;  \"http://example.com/kad2017/UnitedKingdom\" -> \"United Kingdom\" [label=\"http://example.com/kad2017/has_Name\"][color=\"green\"] ;  \"http://example.com/kad2017/London\" -> \"http://example.com/kad2017/City\" [label=\"http://www.w3.org/1999/02/22-rdf-syntax-ns#type\"][color=\"blue\"] ;  \"http://example.com/kad2017/EuropeanCountry\" -> \"http://example.com/kad2017/Country\" [label=\"http://www.w3.org/2000/01/rdf-schema#subClassOf\"][color=\"blue\"] ;  \"http://example.com/kad2017/Amsterdam\" -> \"http://example.com/kad2017/City\" [label=\"http://www.w3.org/1999/02/22-rdf-syntax-ns#type\"][color=\"red\"] ;  \"http://example.com/kad2017/London\" -> \"http://example.com/kad2017/United Kingdom\" [label=\"http://example.com/kad2017/capital_Of\"][color=\"green\"] ;  \"http://example.com/kad2017/Amsterdam\" -> \"http://example.com/kad2017/Capital\" [label=\"http://www.w3.org/1999/02/22-rdf-syntax-ns#type\"][color=\"blue\"] ;  \"http://example.com/kad2017/Netherlands\" -> \"http://example.com/kad2017/Amsterdam\" [label=\"http://example.com/kad2017/has_Capital\"][color=\"green\"] ;  \"http://example.com/kad2017/containsCity\" -> \"http://example.com/kad2017/Country\" [label=\"http://www.w3.org/2000/01/rdf-schema#domain\"][color=\"blue\"] ;  \"http://example.com/kad2017/UnitedKingdom\" -> \"http://example.com/kad2017/England\" [label=\"http://example.com/kad2017/same_As\"][color=\"green\"] ;  \"http://example.com/kad2017/Netherlands\" -> \"http://example.com/kad2017/Country\" [label=\"http://www.w3.org/1999/02/22-rdf-syntax-ns#type\"][color=\"blue\"] ;  \"http://example.com/kad2017/UnitedKingdom\" -> \"http://example.com/kad2017/UK\" [label=\"http://example.com/kad2017/same_As\"][color=\"green\"] ;  \"http://example.com/kad2017/Germany\" -> \"http://example.com/kad2017/EuropeanCountry\" [label=\"http://www.w3.org/1999/02/22-rdf-syntax-ns#type\"][color=\"blue\"] ;  \"http://example.com/kad2017/London\" -> \"London\" [label=\"http://example.com/kad2017/has_Name\"][color=\"green\"] ;  \"http://example.com/kad2017/containsCity\" -> \"http://example.com/kad2017/City\" [label=\"http://www.w3.org/2000/01/rdf-schema#range\"][color=\"blue\"] ;  \"http://example.com/kad2017/Netherlands\" -> \"TheNetherlands\" [label=\"http://example.com/kad2017/has_Name\"][color=\"green\"] ;  \"http://example.com/kad2017/Germany\" -> \"http://example.com/kad2017/Country\" [label=\"http://www.w3.org/1999/02/22-rdf-syntax-ns#type\"][color=\"red\"] ;  \"http://example.com/kad2017/capital_Of\" -> \"http://example.com/kad2017/Country\" [label=\"http://example.com/kad2017/range\"][color=\"green\"] ;  \"http://example.com/kad2017/Capital\" -> \"http://example.com/kad2017/City\" [label=\"http://www.w3.org/2000/01/rdf-schema#subClassOf\"][color=\"blue\"] ;  \"http://example.com/kad2017/Netherlands\" -> \"http://example.com/kad2017/Belgium\" [label=\"http://example.com/kad2017/neighbours\"][color=\"green\"] ;  \"http://example.com/kad2017/UnitedKingdom\" -> \"http://example.com/kad2017/Country\" [label=\"http://www.w3.org/1999/02/22-rdf-syntax-ns#type\"][color=\"blue\"] ;  \"http://example.com/kad2017/hasCapital\" -> \"http://example.com/kad2017/Capital\" [label=\"http://www.w3.org/2000/01/rdf-schema#range\"][color=\"blue\"] ;  \"http://example.com/kad2017/UK\" -> \"http://example.com/kad2017/London\" [label=\"http://example.com/kad2017/has_Capital\"][color=\"green\"] ;  \"http://example.com/kad2017/hasCapital\" -> \"http://example.com/kad2017/containsCity\" [label=\"http://www.w3.org/2000/01/rdf-schema#subPropertyOf\"][color=\"blue\"] ;  \"http://example.com/kad2017/Belgium\" -> \"http://example.com/kad2017/Country\" [label=\"http://www.w3.org/1999/02/22-rdf-syntax-ns#type\"][color=\"blue\"] ;  \"http://example.com/kad2017/UnitedKingdom\" -> \"United Kingdom\" [label=\"http://example.com/kad2017/has_Name\"][color=\"green\"] ;  \"http://example.com/kad2017/London\" -> \"http://example.com/kad2017/City\" [label=\"http://www.w3.org/1999/02/22-rdf-syntax-ns#type\"][color=\"blue\"] ;  \"http://example.com/kad2017/EuropeanCountry\" -> \"http://example.com/kad2017/Country\" [label=\"http://www.w3.org/2000/01/rdf-schema#subClassOf\"][color=\"blue\"] ;  \"http://example.com/kad2017/Amsterdam\" -> \"http://example.com/kad2017/City\" [label=\"http://www.w3.org/1999/02/22-rdf-syntax-ns#type\"][color=\"red\"] ;  \"http://example.com/kad2017/London\" -> \"http://example.com/kad2017/United Kingdom\" [label=\"http://example.com/kad2017/capital_Of\"][color=\"green\"] ;  \"http://example.com/kad2017/Amsterdam\" -> \"http://example.com/kad2017/Capital\" [label=\"http://www.w3.org/1999/02/22-rdf-syntax-ns#type\"][color=\"blue\"] }\n"
     ]
    }
   ],
   "source": [
    "# Format example (as string):\n",
    "# 'digraph G { s1 -> o1 [label=\"p1\"] ; s2 -> o2 [label=\"p2\"] }'\n",
    "\n",
    "dotTriplesList = []\n",
    "for s, p, o in g:\n",
    "    dotTriple = str(\"\\\"\" + s + \"\\\"\" + \" -> \" + \"\\\"\" + o + \"\\\"\" + \" [label=\\\"\" + p + \"\\\"]\")\n",
    "    dotTriplesList.append(dotTriple)\n",
    "\n",
    "# Quick and dirty replacements without using regex due to time constraints.\n",
    "dotTriplesString = repr(dotTriplesList)\n",
    "dot_format_string = dotTriplesString.replace(\"\\'\", \"\")\n",
    "dot_format_string = dot_format_string.replace(\",\", \" ; \")\n",
    "dot_format_string = dot_format_string[1:] + \\\n",
    "                                           dot_format_string[:len(dot_format_string)-1]\n",
    "\n",
    "# Fixing some strange bug ungracefully due to time contstaints. This bug has to do with double brackets appearing.\n",
    "dot_format_string = dot_format_string.replace(\"]]\", \"] ; \")\n",
    "dot_format_string = dot_format_string.replace(\"[[\", \"\")\n",
    "dot_format_string = dot_format_string.replace(\"[\\\"http\", \" \\\"http\")\n",
    "\n",
    "\n",
    "pre  = \"digraph G { \"\n",
    "post = \" }\"\n",
    "\n",
    "dot_format_string = pre + dot_format_string + post\n",
    "\n",
    "# Type\n",
    "colored_dot_format_string = color_predicate(dot_format_string, \"http://www.w3.org/1999/02/22-rdf-syntax-ns#type\", \"blue\")\n",
    "#Subclass of\n",
    "colored_dot_format_string = color_predicate(colored_dot_format_string, \"http://www.w3.org/2000/01/rdf-schema#subClassOf\", \"blue\")\n",
    "# Range\n",
    "colored_dot_format_string = color_predicate(colored_dot_format_string, \"http://www.w3.org/2000/01/rdf-schema#range\", \"blue\")\n",
    "# Domain\n",
    "colored_dot_format_string = color_predicate(colored_dot_format_string, \"http://www.w3.org/2000/01/rdf-schema#domain\", \"blue\")\n",
    "# Subproperty of\n",
    "colored_dot_format_string = color_predicate(colored_dot_format_string, \"http://www.w3.org/2000/01/rdf-schema#subPropertyOf\", \"blue\")\n",
    "\n",
    "# Has name\n",
    "colored_dot_format_string = color_predicate(colored_dot_format_string, \"http://example.com/kad2017/has_Name\", \"green\")\n",
    "# Capital of\n",
    "colored_dot_format_string = color_predicate(colored_dot_format_string, \"http://example.com/kad2017/capital_Of\", \"green\")\n",
    "# Range\n",
    "colored_dot_format_string = color_predicate(colored_dot_format_string, \"http://example.com/kad2017/range\", \"green\")\n",
    "# Has capital\n",
    "colored_dot_format_string = color_predicate(colored_dot_format_string, \"http://example.com/kad2017/has_Capital\", \"green\")\n",
    "# Neighbours\n",
    "colored_dot_format_string = color_predicate(colored_dot_format_string, \"http://example.com/kad2017/neighbours\", \"green\")\n",
    "# Same as\n",
    "colored_dot_format_string = color_predicate(colored_dot_format_string, \"http://example.com/kad2017/same_As\", \"green\")\n",
    "\n",
    "\n",
    "\n",
    "# subject = \"http://example.com/kad2017/Capital\"\n",
    "# predicate = \"http://example.com/kad2017/City\"\n",
    "# objectx = \"http://www.w3.org/2000/01/rdf-schema#subClassOf\"\n",
    "def color_unique(input_triple_store, target_pattern, replacement_pattern):\n",
    "    colored_string = input_triple_store.replace(target_pattern, replacement_pattern)\n",
    "    return colored_string\n",
    "\n",
    "# Inferred Node 1: Amsterdam a City\n",
    "target = '\"http://example.com/kad2017/Amsterdam\" -> \"http://example.com/kad2017/City\" [label=\"http://www.w3.org/1999/02/22-rdf-syntax-ns#type\"][color=\"blue\"] '\n",
    "replacement = '\"http://example.com/kad2017/Amsterdam\" -> \"http://example.com/kad2017/City\" [label=\"http://www.w3.org/1999/02/22-rdf-syntax-ns#type\"][color=\"red\"] '\n",
    "colored_dot_format_string = color_unique(colored_dot_format_string, target, replacement)\n",
    "#\"http://example.com/kad2017/Amsterdam\" -> \"http://example.com/kad2017/City\" [label=\"http://www.w3.org/1999/02/22-rdf-syntax-ns#type\"]\n",
    "\n",
    "# Inferred Node 2: Germany a Country\n",
    "target = '\"http://example.com/kad2017/Germany\" -> \"http://example.com/kad2017/Country\" [label=\"http://www.w3.org/1999/02/22-rdf-syntax-ns#type\"][color=\"blue\"]'\n",
    "replacement = '\"http://example.com/kad2017/Germany\" -> \"http://example.com/kad2017/Country\" [label=\"http://www.w3.org/1999/02/22-rdf-syntax-ns#type\"][color=\"red\"]'\n",
    "colored_dot_format_string = color_unique(colored_dot_format_string, target, replacement)\n",
    "\n",
    "\n",
    "\n",
    "print (colored_dot_format_string)"
   ]
  },
  {
   "cell_type": "markdown",
   "metadata": {},
   "source": [
    "# Tasks related to local copies of external RDF Datasets using SPARQL"
   ]
  },
  {
   "cell_type": "markdown",
   "metadata": {
    "collapsed": true
   },
   "source": [
    "Until now, we have manipulated local knowledge, but as we claimed in the lectures, the advantage of knowledge graphs is that they can easily be linked with other datasets on the web. \n",
    "\n",
    "In these remaining 3 tasks, we will manipulate webdata, and ask complex queries over this web data. In the first task, we will access web-data, make a local copy and then query it. \n",
    "\n",
    "In the other two tasks, we will query live data directly from web databases (in this case, the SPARQL endpoint of DBPedia). "
   ]
  },
  {
   "cell_type": "markdown",
   "metadata": {},
   "source": [
    "### Task 4) (1 Point) Show and manipulate data about RDF resources on the Web "
   ]
  },
  {
   "cell_type": "markdown",
   "metadata": {},
   "source": [
    "With rdflib we can easily load a graph, even if it comes from a source on the Web. The following snupped loads as graph the information about the resource Amsterdam from Dbpedia."
   ]
  },
  {
   "cell_type": "code",
   "execution_count": 12,
   "metadata": {
    "collapsed": true
   },
   "outputs": [],
   "source": [
    "import rdflib\n",
    "from rdflib import Literal, URIRef\n",
    "g=rdflib.Graph()\n",
    "g.load('http://dbpedia.org/resource/Amsterdam')\n",
    "g.load('http://dbpedia.org/resource/Rotterdam')"
   ]
  },
  {
   "cell_type": "markdown",
   "metadata": {},
   "source": [
    "Let us start by showing diverse bits of information w.r.t  Amsterdam and Rotterdam n DBPedia. It is a very similar tasks to task 1, but now with Web Data. \n",
    "\n",
    "First, query the graph g (now containing the DBPedia information about Amsterdam and Rotterdam) and check whether you can find someone who was born in Amsterdam (is dbo:birthPlace of) and died in Rotterdam (is dbo:deathPlace of)?"
   ]
  },
  {
   "cell_type": "code",
   "execution_count": 12,
   "metadata": {},
   "outputs": [
    {
     "name": "stdout",
     "output_type": "stream",
     "text": [
      "http://dbpedia.org/resource/Anthony_Sweijs\nhttp://dbpedia.org/resource/Jan_van_Beveren\nhttp://dbpedia.org/resource/Jan_Stolker\nhttp://dbpedia.org/resource/Haya_van_Someren\n"
     ]
    }
   ],
   "source": [
    "# THIS code is an example to make you get going. It shows how to run a sparql query on g. \n",
    "# gres is then a list of results, which you can print. \n",
    "#\n",
    "# You should adapt the code for your purposes. \n",
    "# qres = g.query(\n",
    "#     \"\"\"SELECT ?s ?o\n",
    "#         WHERE {?s ?p ?o}\n",
    "#         LIMIT 10\n",
    "#        \"\"\")\n",
    "# \n",
    "# for row in qres:\n",
    "#     print(\"%s knows %s\" % row)\n",
    "    \n",
    "qres = g.query(\n",
    "    \n",
    "    \"\"\"\n",
    "    PREFIX dbo: <http://dbpedia.org/ontology/>\n",
    "    PREFIX dbr: <http://dbpedia.org/resource/>\n",
    "\n",
    "    SELECT ?s\n",
    "        WHERE {\n",
    "            ?s dbo:birthPlace dbr:Amsterdam .\n",
    "            ?s dbo:deathPlace dbr:Rotterdam .\n",
    "        }\n",
    "        LIMIT 10        \n",
    "    \"\"\")\n",
    "\n",
    "for row in qres:\n",
    "    print(\"%s\"  % row)"
   ]
  },
  {
   "cell_type": "markdown",
   "metadata": {},
   "source": [
    "Write a query to check whether there is an album that was recorded both in Rotterdam and Amsterdam? You need to look at the data to know which property you should check for. To get an intuition of what is in the knowledge graph you might want to look at the human readable rendering on : http://dbpedia.org/resource/Amsterdam"
   ]
  },
  {
   "cell_type": "code",
   "execution_count": 13,
   "metadata": {
    "collapsed": true,
    "scrolled": true
   },
   "outputs": [
    {
     "name": "stdout",
     "output_type": "stream",
     "text": [
      "http://dbpedia.org/resource/With_or_Without_You_(album)\n"
     ]
    }
   ],
   "source": [
    "qres = g.query(\n",
    "    \n",
    "    \"\"\"\n",
    "    PREFIX dbo: <http://dbpedia.org/ontology/>\n",
    "    PREFIX dbr: <http://dbpedia.org/resource/>\n",
    "    PREFIX rdf: <http://www.w3.org/1999/02/22-rdf-syntax-ns#>\n",
    "        \n",
    "    SELECT ?s\n",
    "        WHERE {\n",
    "            ?s dbo:recordedIn dbr:Amsterdam .\n",
    "            ?s dbo:recordedIn dbr:Rotterdam .\n",
    "        }\n",
    "        LIMIT 10        \n",
    "    \"\"\")\n",
    "\n",
    "for row in qres:\n",
    "    print(\"%s\"  % row)"
   ]
  },
  {
   "cell_type": "markdown",
   "metadata": {},
   "source": [
    "### Task 5) (2 points) Ask SPARQL against live data using Yasgui\n",
    "\n",
    "Yasgui (http://yasgui.org/) is a nice graphical interface for asking queries \n",
    "Run a new query against http://dbpedia.org/sparql that does the following:\n",
    "\n",
    "    Find all languages spoken in countries that are not official languages of that country\n",
    "    The query should return two colums: the country, and the number of languages.\n",
    "    Order the countries by the number of unofficial languages, from high to low."
   ]
  },
  {
   "cell_type": "code",
   "execution_count": null,
   "metadata": {
    "collapsed": true
   },
   "outputs": [],
   "source": [
    "# Add here the SPARQL query (not Python) code. (copy&paste from Yasgui)\n",
    "# When executing against Yasgui you should get an answer. \n",
    "# Don't worry that executing this cel will give an error message.\n",
    "\n",
    "PREFIX dbo: <http://dbpedia.org/ontology/>\n",
    "\n",
    "SELECT (?o AS ?country) (COUNT(?s) AS ?number_of_unofficial_languages)\n",
    "WHERE {\n",
    "  ?s dbo:spokenIn ?o\n",
    "  MINUS\n",
    "  {?s dbo:officialLanguage ?o}\n",
    "} \n",
    "ORDER BY DESC(?number_of_unofficial_languages)"
   ]
  },
  {
   "cell_type": "markdown",
   "metadata": {},
   "source": [
    "### Task 6) (2 Point) SPARQL \n",
    "\n",
    "Write a SPARQL query which returns all relationship(s) between the series \"Homeland\" and \"Claire Danes\" (literally).\n",
    "\n",
    "Use Yasgui to design the correct SPARQL query, and copy paste it in the cell below. "
   ]
  },
  {
   "cell_type": "code",
   "execution_count": null,
   "metadata": {
    "collapsed": true
   },
   "outputs": [],
   "source": [
    "# Add here the SPARQL query (not Python) code. (copy&paste from Yasgui)\n",
    "# When executing against Yasgui you should get an answer. \n",
    "# Don't worry that executing this cel will give an error message.\n",
    "\n",
    "PREFIX dbr: <http://dbpedia.org/resource/>\n",
    "\n",
    "SELECT DISTINCT (?p AS ?relationship) \n",
    "WHERE {\n",
    "  {<http://dbpedia.org/resource/Homeland_(TV_series)> ?p dbr:Claire_Danes}\n",
    "  UNION\n",
    "  {dbr:Claire_Danes ?p <http://dbpedia.org/resource/Homeland_(TV_series)>}\n",
    "}"
   ]
  }
 ],
 "metadata": {
  "kernelspec": {
   "display_name": "Python 2",
   "language": "python",
   "name": "python2"
  },
  "language_info": {
   "codemirror_mode": {
    "name": "ipython",
    "version": 2.0
   },
   "file_extension": ".py",
   "mimetype": "text/x-python",
   "name": "python",
   "nbconvert_exporter": "python",
   "pygments_lexer": "ipython2",
   "version": "2.7.10"
  }
 },
 "nbformat": 4,
 "nbformat_minor": 0
}