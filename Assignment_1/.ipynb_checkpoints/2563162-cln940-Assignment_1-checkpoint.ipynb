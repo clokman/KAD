{
 "cells": [
  {
   "cell_type": "markdown",
   "metadata": {
    "collapsed": true
   },
   "source": [
    "# Knowledge and Data 2017: First practical assignment \n",
    "## Manipulate Propositional Logic and Simple Knowledge Graph Logic"
   ]
  },
  {
   "cell_type": "markdown",
   "metadata": {},
   "source": [
    "Your name: John Lokman\n",
    "\n",
    "Your VUNetID: cln940 (Student number: 2563162)\n",
    "\n",
    "If you do not provide your name and VUNetID we will not accept your submission. "
   ]
  },
  {
   "cell_type": "markdown",
   "metadata": {},
   "source": [
    "### Learning objectives"
   ]
  },
  {
   "cell_type": "markdown",
   "metadata": {},
   "source": [
    "At the end of this exercise you should be able to perform some simple manipulations of two different formal systems: \n",
    "1. You will be able to transform Propositional Logic statements from one syntactic form to semantically equivalent  alternative representation.\n",
    "2. You will be able to evaluate a Propositional Logic statements given some validation of the propositional variables. \n",
    "3. You will be able to transform one Knowledge Graph into an equivalent one with a different Syntax \n",
    "4. You will be able to calculate simple entailment between two Knowledge Graph"
   ]
  },
  {
   "cell_type": "markdown",
   "metadata": {},
   "source": [
    "### Practicalities"
   ]
  },
  {
   "cell_type": "markdown",
   "metadata": {},
   "source": [
    "Follow this Notebook step-by-step. Some of the exercises are already \n",
    "fully filled in to give you some examples of how to do things. Others are\n",
    "partially filled, and require you to fill in some gaps. And others, you \n",
    "will have to fully program yourself. \n",
    "\n",
    "Of course, you can do the exercises in any Programming Editor of your liking. \n",
    "But you do not have to. Feel free to simply write codein the Notebook. When \n",
    "everythink is filled in and works, safe the Notebook and submit it \n",
    "as a Jupyter Notebook, i.e. with an ipynb extension. Please use as name of the \n",
    "Notebook your studentID+Assignment1.ipynb.  \n",
    "\n",
    "\n",
    "Other than in courses dedicated to programming we will not evaluate the style\n",
    "of the programs. But we will test your programs on other data than we provide, \n",
    "and your program should give the correct answers to those test-data as well. "
   ]
  },
  {
   "cell_type": "markdown",
   "metadata": {},
   "source": [
    "## Exercises related to Propositional Logic "
   ]
  },
  {
   "cell_type": "markdown",
   "metadata": {},
   "source": [
    "We will use a very simple, though crude and ugly, representation for Propositional Logic: Propositions are strings, and formulas are lists, starting with an operator as first element in the list, and the subformulas as second and (if appropriate) third argument. (Note that this is slightly different than the definition in the lecture, where Propositions are lists with one argument). These are formulas in Prefix Notation.\n",
    "\n",
    "In the file, there is one formula per line. \n",
    "\n",
    "For simplicity, we will only consider formulas with any of the three variables P, Q and R, and binary operators \"if, and, or\" and \"not\". "
   ]
  },
  {
   "cell_type": "markdown",
   "metadata": {},
   "source": [
    "Here are some formulas as examples.\n",
    "\n",
    "['if', ['and', ['not', 'R'], 'P'], 'Q']\n",
    "\n",
    "['not', ['if', ['if', ['or', 'P', ['not', 'Q']], 'R'], ['and', 'P', 'R']]]\n",
    "\n",
    "['or', ['not', ['if', 'P', 'Q']], ['if', 'R', 'P']] "
   ]
  },
  {
   "cell_type": "markdown",
   "metadata": {},
   "source": [
    "The first thing you will have to do is to open the file. You will need to adapt the code to the location of your file kb.txt to make this work. Then you read every line of the file into a list called *content*.\n",
    "\n",
    "Do *not* forget to run the following cell, otherwise, the file will not be opened. "
   ]
  },
  {
   "cell_type": "code",
   "execution_count": 197,
   "metadata": {
    "collapsed": true
   },
   "outputs": [],
   "source": [
    "import os \n",
    "fileDir = os.path.dirname(os.path.realpath('__file__'))\n",
    "filename = os.path.join(fileDir, 'PLknowledgebase.txt')\n",
    "#filename = os.path.join(fileDir, 'Assignment 1\\\\PLknowledgebase.txt') \n",
    "# The path should be 'PLknowledgebase.txt' in Jupyter; and 'Assignment 1\\\\PLknowledgebase.txt' (i.e., include folder)\n",
    "#  in PyCharm. Please switch between one and the other in case of errors. \n",
    "with open(filename) as file:\n",
    "    content = file.readlines()"
   ]
  },
  {
   "cell_type": "markdown",
   "metadata": {},
   "source": [
    "### Task 1) (1 Point) Complete the procedure *infix* that transforms the formula into Infix notation, i.e., the operator \"sits\" between the two arguments.\n",
    "Also use different symbols for operators, -> for implication, & for conjunction, v for disjunction and - for negation. "
   ]
  },
  {
   "cell_type": "code",
   "execution_count": 198,
   "metadata": {
    "collapsed": true
   },
   "outputs": [],
   "source": [
    "def infix(s):\n",
    "    if type(s) is str:\n",
    "        return s\n",
    "    elif type(s) is list and s[0] == \"if\":\n",
    "        return [ infix(s[1]),\"->\",infix(s[2])]\n",
    "    ### Fill in the remaining cases\n",
    "    elif type(s) is list and s[0] == \"and\":\n",
    "        return [ infix(s[1]),\"&\",infix(s[2])]\n",
    "    elif type(s) is list and s[0] == \"or\":\n",
    "        return [ infix(s[1]),\"v\",infix(s[2])]\n",
    "    elif type(s) is list and s[0] == 'not':\n",
    "        return [ \"-\", infix(s[1])]\n",
    "    else:\n",
    "        print \"Something went wrong.\""
   ]
  },
  {
   "cell_type": "markdown",
   "metadata": {},
   "source": [
    "**How do the infix function work?**\n",
    "\n",
    "eval() is able to parse a statement given in string format in a way compatible with prefix notation during execution. This allows infix function to work as it does:"
   ]
  },
  {
   "cell_type": "code",
   "execution_count": 199,
   "metadata": {},
   "outputs": [
    {
     "name": "stdout",
     "output_type": "stream",
     "text": [
      "['if', ['and', ['not', 'R'], 'P'], 'Q']\n",
      "'if'\n",
      "['and', ['not', 'R'], 'P']\n",
      "'Q'\n"
     ]
    }
   ],
   "source": [
    "print (\"['if', ['and', ['not', 'R'], 'P'], 'Q']\")\n",
    "\n",
    "first_element = repr((eval(\"['if', ['and', ['not', 'R'], 'P'], 'Q']\".strip()))[0]) \n",
    "print(first_element)\n",
    "\n",
    "second_element = repr((eval(\"['if', ['and', ['not', 'R'], 'P'], 'Q']\".strip()))[1]) \n",
    "print(second_element)\n",
    "\n",
    "third_element = repr((eval(\"['if', ['and', ['not', 'R'], 'P'], 'Q']\".strip()))[2]) \n",
    "print(third_element)"
   ]
  },
  {
   "cell_type": "markdown",
   "metadata": {},
   "source": [
    "Execute the following line of code to check whether your procedure works correctly or not."
   ]
  },
  {
   "cell_type": "code",
   "execution_count": 200,
   "metadata": {
    "collapsed": true,
    "scrolled": false
   },
   "outputs": [
    {
     "name": "stdout",
     "output_type": "stream",
     "text": [
      "[[['-', 'R'], '&', 'P'], '->', 'Q']\n",
      "['-', [[['P', 'v', ['-', 'Q']], '->', 'R'], '->', ['P', '&', 'R']]]\n",
      "[['-', ['P', '->', 'Q']], 'v', ['R', '->', 'P']]\n",
      "['-', ['-', ['-', ['-', ['-', 'P']]]]]\n",
      "['P', '&', ['-', 'P']]\n",
      "[['P', '->', 'Q'], '&', ['P', '&', ['-', 'Q']]]\n"
     ]
    }
   ],
   "source": [
    "for l in content:\n",
    "     print repr (infix(eval(l.strip())))"
   ]
  },
  {
   "cell_type": "markdown",
   "metadata": {},
   "source": [
    "If you run your procedure on the input data, you should something like the following output: <br />\n",
    "[[[' - ', 'R'], ' & ', 'P'], '->', 'Q']<br />\n",
    "[' - ', [[['P', ' v ', [' - ', 'Q']], '->', 'R'], '->', ['P', ' & ', 'R']]]<br />\n",
    "[[' - ', ['P', '->', 'Q']], ' v ', ['R', '->', 'P']]<br />\n",
    "[' - ', [' - ', [' - ', [' - ', [' - ', 'P']]]]]<br />\n",
    "['P', ' & ', [' - ', 'P']]<br />\n",
    "[['P', '->', 'Q'], ' & ', ['P', ' & ', [' - ', 'Q']]]"
   ]
  },
  {
   "cell_type": "markdown",
   "metadata": {},
   "source": [
    "### Task 2: (2 Point) Write a procedure *evaluate* that calculates the value of a formula. \n",
    "\n",
    "Input to the procedure is the formula s (so either a string or a list), and the three truth values for variable P, Q and R. \n",
    "\n",
    "This is a procedural way to implement the \"meaning\" of the operators (which you can read from the Truth Tables)"
   ]
  },
  {
   "cell_type": "code",
   "execution_count": 201,
   "metadata": {
    "collapsed": true
   },
   "outputs": [],
   "source": [
    "def evaluate(s, p, q, r):\n",
    "    if type(s) is str:\n",
    "        if s == \"P\": \n",
    "            return p\n",
    "        ## Fill in the remaining cases\n",
    "        if s == \"Q\": \n",
    "            return q\n",
    "        if s == \"R\": \n",
    "            return r\n",
    "    \n",
    "    # Implication\n",
    "    elif type(s) is list and s[0] == \"if\":\n",
    "        if (evaluate(s[1],p,q,r) == True) and (evaluate(s[2],p,q,r) == True):\n",
    "            return True\n",
    "        ## Fill in the remaining cases\n",
    "        if (evaluate(s[1],p,q,r) == True) and (evaluate(s[2],p,q,r) == False):\n",
    "            return False\n",
    "        if (evaluate(s[1],p,q,r) == False) and (evaluate(s[2],p,q,r) == False):\n",
    "            return True\n",
    "        if (evaluate(s[1],p,q,r) == False) and (evaluate(s[2],p,q,r) == True):\n",
    "            return True\n",
    "    \n",
    "    # Conjunction\n",
    "    elif type(s) is list and s[0] == \"and\":\n",
    "        if (evaluate(s[1],p,q,r) == True) and (evaluate(s[2],p,q,r) == True):\n",
    "            return True\n",
    "        if (evaluate(s[1],p,q,r) == True) and (evaluate(s[2],p,q,r) == False):\n",
    "            return False\n",
    "        if (evaluate(s[1],p,q,r) == False) and (evaluate(s[2],p,q,r) == True):\n",
    "            return False\n",
    "        if (evaluate(s[1],p,q,r) == False) and (evaluate(s[2],p,q,r) == False):\n",
    "            return False\n",
    "    \n",
    "    # Disjunction\n",
    "    elif type(s) is list and s[0] == \"or\":\n",
    "        if (evaluate(s[1],p,q,r) == True) and (evaluate(s[2],p,q,r) == True):\n",
    "            return True\n",
    "        if (evaluate(s[1],p,q,r) == True) and (evaluate(s[2],p,q,r) == False):\n",
    "            return True\n",
    "        if (evaluate(s[1],p,q,r) == False) and (evaluate(s[2],p,q,r) == True):\n",
    "            return True\n",
    "        if (evaluate(s[1],p,q,r) == False) and (evaluate(s[2],p,q,r) == False):\n",
    "            return False\n",
    "\n",
    "    # Negation\n",
    "    elif type(s) is list and s[0] == \"not\":\n",
    "        if (evaluate(s[1],p,q,r) == True):\n",
    "            return False\n",
    "        if (evaluate(s[1],p,q,r) == False):\n",
    "            return True\n",
    "\n",
    "    else:\n",
    "        print \"Error\""
   ]
  },
  {
   "cell_type": "markdown",
   "metadata": {},
   "source": [
    "Execute the following line of code to check whether your procedure works correctly or not."
   ]
  },
  {
   "cell_type": "code",
   "execution_count": 202,
   "metadata": {},
   "outputs": [
    {
     "name": "stdout",
     "output_type": "stream",
     "text": [
      "True\n",
      "False\n",
      "True\n",
      "False\n",
      "False\n",
      "False\n"
     ]
    }
   ],
   "source": [
    "for l in content:\n",
    "     print repr (evaluate(eval(l.strip()),True,True,False))"
   ]
  },
  {
   "cell_type": "markdown",
   "metadata": {},
   "source": [
    "If you run your program on the given input, you should get an answer like this (modulo editing): <br />\n",
    "True<br />\n",
    "False<br />\n",
    "True<br />\n",
    "False<br />\n",
    "False<br />\n",
    "False<br />"
   ]
  },
  {
   "cell_type": "markdown",
   "metadata": {},
   "source": [
    "### Task 3: (1 Point) Write a procedure *tautology* that calculates whether a given formula (with maximally three variables P,Q and R) is a tautology \n",
    "Hint: Use the *evaluate* function you just wrote and implement a \"truthtable\" approach whether the formula is always evaluated as \"true\". "
   ]
  },
  {
   "cell_type": "code",
   "execution_count": 208,
   "metadata": {
    "collapsed": true
   },
   "outputs": [],
   "source": [
    "def tautology(s):\n",
    "    if evaluate(s, True, True, True) == True and evaluate(s, True, True, False) == True and evaluate(s, True, False, False) == True \\\n",
    "    and evaluate(s, False, False, False) == True and evaluate(s, False, False ,True) == True and evaluate(s, False, True ,True) == True \\\n",
    "    and evaluate(s, False, True ,False) == True and evaluate(s, True, False ,True) == True:\n",
    "        return True\n",
    "    else:\n",
    "        return False"
   ]
  },
  {
   "cell_type": "code",
   "execution_count": 212,
   "metadata": {},
   "outputs": [
    {
     "name": "stdout",
     "output_type": "stream",
     "text": [
      "['if', ['and', ['not', 'R'], 'P'], 'Q']\n",
      "\n",
      "['not', ['if', ['if', ['or', 'P', ['not', 'Q']], 'R'], ['and', 'P', 'R']]]\n",
      "\n",
      "['or', ['not', ['if', 'P', 'Q']], ['if', 'R', 'P']]\n",
      "\n",
      "['not', ['not', ['not', ['not', ['not', 'P']]]]]\n",
      "\n",
      "['and', 'P', ['not', 'P']]\n",
      "\n",
      "['and', ['if', 'P', 'Q'], ['and', 'P', ['not', 'Q']]]\n",
      "\n"
     ]
    }
   ],
   "source": [
    "for each_line in content:\n",
    "    print each_line"
   ]
  },
  {
   "cell_type": "markdown",
   "metadata": {},
   "source": [
    "Execute the following line of code to check whether your procedure works correctly or not."
   ]
  },
  {
   "cell_type": "code",
   "execution_count": 227,
   "metadata": {},
   "outputs": [
    {
     "name": "stdout",
     "output_type": "stream",
     "text": [
      "False\n",
      "False\n",
      "False\n",
      "False\n",
      "False\n",
      "False\n"
     ]
    }
   ],
   "source": [
    "for l in content:\n",
    "     print repr (tautology(eval(l.strip())))"
   ]
  },
  {
   "cell_type": "markdown",
   "metadata": {},
   "source": [
    "When you evaluate your code on the provided input, you should get something like the following: <br />\n",
    "True<br />\n",
    "False<br />\n",
    "False<br />\n",
    "False<br />\n",
    "False<br />\n",
    "False"
   ]
  },
  {
   "cell_type": "markdown",
   "metadata": {},
   "source": [
    "**IMPORTANT NOTE**: **The tautology function I coded seems to be working correctly despite the fact its output differs from the output example provided by instructors. (In the instructor-provided output, the first line of the output is \"True\" even though the function this line is valuated from does not seem to be a tautology). To test the accuracy of the function, it is ran by entering an actual tautology as its input below**:"
   ]
  },
  {
   "cell_type": "code",
   "execution_count": 230,
   "metadata": {},
   "outputs": [
    {
     "name": "stdout",
     "output_type": "stream",
     "text": [
      "True\n"
     ]
    }
   ],
   "source": [
    "print repr (tautology(eval(((\"['or', ['if', 'P', 'Q'], ['if', 'Q', 'P']]\").strip()))))\n",
    "# The tautology function outputs \"True\" when it is ran on a tautology."
   ]
  },
  {
   "cell_type": "markdown",
   "metadata": {
    "collapsed": true
   },
   "source": [
    "## Exercises related to Simple Knowledge Graph Logic "
   ]
  },
  {
   "cell_type": "markdown",
   "metadata": {},
   "source": [
    "We will use a very simple, though crude and ugly, representation for Simple Knowledge Graph Logic: Resources are strings, and triples are lists of Resources. So, a triple ( s p o ) will be represented as a list [s,p,o], and a Knowledge Graph with two triples (s1, p1, o1) and (s2, p2, o2) as a list containing two lists: [[s1,p1,o1],[s2,p2,o2]].\n",
    "\n",
    "Every line contains a knowledge graph (one list). \n",
    "\n",
    "Run the following code to load the Knowledge Graph in knowledgegraph.txt"
   ]
  },
  {
   "cell_type": "code",
   "execution_count": 233,
   "metadata": {
    "collapsed": true
   },
   "outputs": [],
   "source": [
    "import os \n",
    "fileDir = os.path.dirname(os.path.realpath('__file__'))\n",
    "filename = os.path.join(fileDir, 'knowledgegraph.txt')              ## Must be uncommented for Jupyter\n",
    "#filename = os.path.join(fileDir, 'Assignment 1\\\\knowledgegraph.txt') ## Must be uncommented for PyCharm  \n",
    "with open(filename) as file:\n",
    "    content = file.readlines()"
   ]
  },
  {
   "cell_type": "markdown",
   "metadata": {},
   "source": [
    "Maybe you want to write a function to print this graph for convenience ... (no extra points, though) "
   ]
  },
  {
   "cell_type": "code",
   "execution_count": null,
   "metadata": {
    "collapsed": true
   },
   "outputs": [],
   "source": []
  },
  {
   "cell_type": "markdown",
   "metadata": {},
   "source": [
    "The next two exercises are about syntactic transformation of Knowledge Graphs. The two target formats are simplified versions of syntaxes for the language RDF that we will introduce later. \n",
    "\n",
    "### Task 4a) (1 Point) Write a procedure to transform the Knowledge Graphs into Simple-n-triple syntax. \n",
    "Simple-n-triple is a simple (the most simple?) representation format for representing Knowledge Graphs. \n",
    "\n",
    "A triple (s,p,o) is simply written as as follows:\n",
    "\n",
    "     s p o . \n",
    "     \n",
    "As one string, with blanks between s,p and o, and a dot after the triple. \n",
    "\n",
    "First, write a function that transforms a triple ['s','p','o'] into a single string \"s p o .\""
   ]
  },
  {
   "cell_type": "code",
   "execution_count": 333,
   "metadata": {},
   "outputs": [
    {
     "name": "stdout",
     "output_type": "stream",
     "text": [
      "['s', 'p', 'o'] <type 'list'>\n"
     ]
    }
   ],
   "source": [
    "# Such a function would use eval() as its core function:\n",
    "y = (eval(\"[['s','p','o'],['s','p1','o2'],['s2','p2','o']]\"))\n",
    "\n",
    "print y[0], type(y)"
   ]
  },
  {
   "cell_type": "code",
   "execution_count": 334,
   "metadata": {
    "collapsed": true
   },
   "outputs": [],
   "source": [
    "def simplify(triple):\n",
    "## It is a suggestion to first write a function that transforms the triples ...\n",
    "    # Tokenize input\n",
    "    if type(triple) is list:\n",
    "        triple_list = triple\n",
    "        simplified_triple = str(triple_list[0]) + \" \" + str(triple_list[1]) + \" \" + str(triple_list[2]) + \" .\"\n",
    "        return simplified_triple\n",
    "    else:\n",
    "        return \"'Triple' error.\""
   ]
  },
  {
   "cell_type": "code",
   "execution_count": 337,
   "metadata": {
    "collapsed": true
   },
   "outputs": [],
   "source": [
    "def ntriple(graph):\n",
    "## ... and then loops through all triples in the graph\n",
    "#    for each_line in graph:\n",
    "#        current_triples_list = eval(each_line)\n",
    "        for each_triple in graph:\n",
    "            current_simplified_triple = simplify(each_triple)\n",
    "            print current_simplified_triple"
   ]
  },
  {
   "cell_type": "markdown",
   "metadata": {},
   "source": [
    "Execute the following line of code to check whether your procedure works correctly or not."
   ]
  },
  {
   "cell_type": "code",
   "execution_count": 338,
   "metadata": {
    "collapsed": true
   },
   "outputs": [
    {
     "name": "stdout",
     "output_type": "stream",
     "text": [
      "s p o .\n",
      "s p1 o2 .\n",
      "s2 p2 o .\n",
      "None\n",
      "Netherlands name \"Netherlands\" .\n",
      "Netherlands has_capital Amsterdam .\n",
      "Amsterdam a Capital .\n",
      "None\n",
      "Netherlands name \"Netherlands\" .\n",
      "Netherlands has_capital Amsterdam .\n",
      "Amsterdam a Capital .\n",
      "Capital a City .\n",
      "Netherlands neighbours Belgium .\n",
      "Netherlands a Country .\n",
      "None\n"
     ]
    }
   ],
   "source": [
    "for l in content:\n",
    "     print ntriple(eval(l.strip()))"
   ]
  },
  {
   "cell_type": "markdown",
   "metadata": {},
   "source": [
    "Your answer could look like this: <br />\n",
    "['s p o .', 's p1 o2 .', 's2 p2 o .']<br />\n",
    "['Netherlands name \"Netherlands\" .', 'Netherlands has_capital Amsterdam .', 'Amsterdam a Capital .']<br />\n",
    "['Netherlands name \"Netherlands\" .', 'Netherlands has_capital Amsterdam .', 'Amsterdam a Capital .', 'Capital a City .', 'Netherlands neighbours Belgium .', 'Netherlands a Country .']<br />\n",
    "but it would also be ok if you return one string, where all string represetations for triples are concatenated into one string. If in doubt, post a question on Piazza. "
   ]
  },
  {
   "cell_type": "markdown",
   "metadata": {},
   "source": [
    "### Task 4b) (1 Point) Write a procedure to transform the Knowledge Graphs into *simpleturtle*. (1 extra point) \n",
    "Simpleturtle is a more compact format for representing Knowledge Graphs. \n",
    "\n",
    "A triple (s,p,o) is again written like in simple-n-triples: \"s p o .\" as one string, with blanks between s,p and o, and a dot after the triple. But now, suppose there are more triples with the same \"subject\", i.e. the first element of the triple, e.g. (s,p1,o1), (s,p2,o2) and (s,p1,o2). These triples will then be written in a more compact format, namely: \n",
    "\n",
    "(s p1 o1; p2 o2; p1 o2) \n",
    "\n",
    "The \";\" is interpreted as disjunction. \n",
    "\n",
    "Write such a function simpleturtle:"
   ]
  },
  {
   "cell_type": "code",
   "execution_count": null,
   "metadata": {
    "collapsed": true
   },
   "outputs": [],
   "source": [
    "## Your code here."
   ]
  },
  {
   "cell_type": "markdown",
   "metadata": {},
   "source": [
    "Check whether your code works correctly: "
   ]
  },
  {
   "cell_type": "code",
   "execution_count": null,
   "metadata": {
    "collapsed": true
   },
   "outputs": [],
   "source": [
    "for l in content:\n",
    "     print simpleturtle(eval(l.strip()))"
   ]
  },
  {
   "cell_type": "markdown",
   "metadata": {},
   "source": [
    "Your answer could look like this:<br />\n",
    "['s p o ; p1 o2 .', 's2 p2 o .']<br />\n",
    "['Netherlands name \"Netherlands ; has_capital Amsterdam .', 'Amsterdam a Capital .']<br />\n",
    "['Netherlands name \"Netherlands\" ; has_capital Amsterdam ; neighbours Belgium ; a Country .', 'Amsterdam a Capital .', 'Capital a City .']<br />\n",
    "but similar representations might also be ok (e.g. as strings). If in doubt, post a question on Piazza.<br />\n",
    "\n",
    "Most elegant would be if you add indents, such as a representation<br />\n",
    "[<br />\n",
    "'s p o ; <br />\n",
    "&nbsp;&nbsp;&nbsp;&nbsp;    p1 o2 .', <br />\n",
    "'s2 p2 o .'<br />\n",
    "]<br />\n",
    "This is more close to the \"real\" Turtle format. "
   ]
  },
  {
   "cell_type": "markdown",
   "metadata": {},
   "source": [
    "### Task 5) (2 Point) Write a procedure to evaluate whether a Triple (s p o) is entailed by your Knowledge Graph\n",
    "\n",
    "Remember that we can calculate whether a triple is entailed by a Knowledge Graph (w.r.t Simple Knowledge Graph Logic) by simply checking whether the triple is a subgraph of the knowledge graph.  \n",
    "\n",
    "The triples, on which you can test your implementations are located in the file: entailedTriple.txt. You need to open the file and check for all triples whether it is entailed by the knowledge graphs in knowledgegraph.txt (which is already opened). \n",
    "\n",
    "You might want to add auxiliary functions in extra cells if necessary."
   ]
  },
  {
   "cell_type": "code",
   "execution_count": null,
   "metadata": {
    "collapsed": true
   },
   "outputs": [],
   "source": [
    "## Your code here\n",
    "def tripleEntail:"
   ]
  },
  {
   "cell_type": "markdown",
   "metadata": {},
   "source": [
    "Provide some code to check that your function works correctly.  "
   ]
  },
  {
   "cell_type": "code",
   "execution_count": null,
   "metadata": {
    "collapsed": true
   },
   "outputs": [],
   "source": []
  },
  {
   "cell_type": "markdown",
   "metadata": {},
   "source": [
    "The expected output is a list of relations between graphs and triples<br />\n",
    "[['s','p','o'],['s','p1','o2'],['s2','p2','o']] entails ['s2','p2','o']<br />\n",
    "[['s','p','o'],['s','p1','o2'],['s2','p2','o']] does NOT entail ['Netherlands','name','\"Netherlands\"']<br />\n",
    "and so on for all graphs and triples. "
   ]
  },
  {
   "cell_type": "markdown",
   "metadata": {},
   "source": [
    "### Task 6) (2 Point) Write a procedure to evaluate whether one Knowledge Graph is entailed by another Knowledge Graph"
   ]
  },
  {
   "cell_type": "markdown",
   "metadata": {},
   "source": [
    "The graphs, on which you can test your implementations are located in the file: entailedGraphs.txt. \n",
    "\n",
    "You might want to add auxiliary functions in extra cells if necessary."
   ]
  },
  {
   "cell_type": "code",
   "execution_count": null,
   "metadata": {
    "collapsed": true
   },
   "outputs": [],
   "source": [
    "## Your code here\n",
    "def graphEntail"
   ]
  },
  {
   "cell_type": "markdown",
   "metadata": {},
   "source": [
    "Provide some code to check that your function works correctly.  "
   ]
  },
  {
   "cell_type": "code",
   "execution_count": null,
   "metadata": {
    "collapsed": true
   },
   "outputs": [],
   "source": []
  },
  {
   "cell_type": "markdown",
   "metadata": {},
   "source": [
    "The expected output is a list of relations between graphs and graphs<br />\n",
    "[['s','p','o'],['s','p1','o2'],['s2','p2','o']] entails [['s','p','o'],['s2','p2','o']]<br />\n",
    "[['s','p','o'],['s','p1','o2'],['s2','p2','o']] entails [['s2','p2','o'],['s2','p2','o']]<br />\n",
    "[['s','p','o'],['s','p1','o2'],['s2','p2','o']] does NOT entail [['Netherlands','name','\"Netherlands\"'],['Netherlands','has_capital','Amsterdam'],['Capital','a','City'],['Netherlands','neighbours','Belgium']]\n",
    " [['s','p','o'],['s2','p2','o']]<br />\n",
    "and so on for all graphs and triples. "
   ]
  }
 ],
 "metadata": {
  "kernelspec": {
   "display_name": "Python 2",
   "language": "python",
   "name": "python2"
  },
  "language_info": {
   "codemirror_mode": {
    "name": "ipython",
    "version": 2
   },
   "file_extension": ".py",
   "mimetype": "text/x-python",
   "name": "python",
   "nbconvert_exporter": "python",
   "pygments_lexer": "ipython2",
   "version": "2.7.12"
  }
 },
 "nbformat": 4,
 "nbformat_minor": 1
}
