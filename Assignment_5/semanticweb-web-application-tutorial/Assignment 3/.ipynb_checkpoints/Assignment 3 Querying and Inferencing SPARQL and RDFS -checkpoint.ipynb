{
 "cells": [
  {
   "cell_type": "markdown",
   "metadata": {},
   "source": [
    "# Knowledge and Data 2017: 3rd practical assignment \n",
    "## RDF Data, RDFS knowledge and inferencing "
   ]
  },
  {
   "cell_type": "markdown",
   "metadata": {},
   "source": [
    "Your name: \n",
    "\n",
    "Your VUNetID: \n",
    "\n",
    "If you do not provide your name and VUNetID we will not accept your submission. "
   ]
  },
  {
   "cell_type": "markdown",
   "metadata": {},
   "source": [
    "At the end of this exercise you should be able to \n",
    "\n",
    "1. access local an external data via SPARQL both from within a python programming environment and stand-alone with a GUI, such as YASGUI (www.yasgui.org), and this way integrate data from different sources  \n",
    "2. Model your own first knowledge base, in this case an RDF Schema knowledge graph\n",
    "3. Implement inference rules "
   ]
  },
  {
   "cell_type": "markdown",
   "metadata": {},
   "source": [
    "Follow this Notebook step-by-step. \n",
    "\n",
    "Of course, you can do the exercises in any Programming Editor of your liking. \n",
    "But you do not have to. Feel free to simply write code in the Notebook. When \n",
    "everythink is filled in and works, safe the Notebook and submit it \n",
    "as a Jupyter Notebook, i.e. with an ipynb extension. Please use as name of the \n",
    "Notebook your studentID+Assignment3.ipynb.  \n",
    "\n",
    "Other than in courses dedicated to programming we will not evaluate the style\n",
    "of the programs. But we will test your programs on other data than we provide, \n",
    "and your program should give the correct answers to those test-data as well. "
   ]
  },
  {
   "cell_type": "markdown",
   "metadata": {},
   "source": [
    "Before you start, install the Stardog Triplestore, and make sure the server is running (follow the explanation in the file tools.md that was provided in week 1 - https://github.com/kadevgraaf/semanticweb-web-application-tutorial/blob/master/tools.md#4-the-stardog-triple-store-version-4-or-higher). \n",
    "\n",
    "Then, add the file example-from-slides.ttl to a newly created database, say called assignment3. "
   ]
  },
  {
   "cell_type": "markdown",
   "metadata": {},
   "source": [
    "## Task 1: (2 points) Integrate local and external data"
   ]
  },
  {
   "cell_type": "markdown",
   "metadata": {},
   "source": [
    "You can integrate SPARQL queries into your python code by using the SPARQLWrapper library as follows: "
   ]
  },
  {
   "cell_type": "code",
   "execution_count": 16,
   "metadata": {
    "scrolled": false
   },
   "outputs": [
    {
     "name": "stdout",
     "output_type": "stream",
     "text": [
      "Amsterdam\n",
      "أمستردام\n",
      "Amsterdam\n",
      "Ámsterdam\n",
      "Amsterdam\n",
      "Amsterdam\n",
      "アムステルダム\n",
      "Amsterdam\n",
      "Amsterdam\n",
      "Amesterdão\n",
      "Амстердам\n",
      "阿姆斯特丹\n"
     ]
    }
   ],
   "source": [
    "#THIS ONLY WORKS WHEN YOU ARE ONLINE\n",
    "from rdflib import Graph, RDF, Namespace, Literal, URIRef\n",
    "from SPARQLWrapper import SPARQLWrapper, JSON\n",
    "\n",
    "sparql = SPARQLWrapper(\"http://dbpedia.org/sparql\")\n",
    "sparql.setQuery(\"\"\"\n",
    "    PREFIX rdfs: <http://www.w3.org/2000/01/rdf-schema#>\n",
    "    SELECT ?label\n",
    "    WHERE { <http://dbpedia.org/resource/Amsterdam> rdfs:label ?label }\n",
    "\"\"\")\n",
    "sparql.setReturnFormat(JSON)\n",
    "results = sparql.query().convert()\n",
    "for result in results[\"results\"][\"bindings\"]:\n",
    "   print(result[\"label\"][\"value\"])\n",
    "\n",
    "# This code accesses the DBPedia database, and returns the result of the specified SPARQL query (test it!)    "
   ]
  },
  {
   "cell_type": "markdown",
   "metadata": {},
   "source": [
    "While the above is just an example code on how to use RDFLIb and SPARQLWRAPPER to access external/interenal SPARQL endpoints, and manipulate the results in Python. \n",
    "\n",
    "Your tasks is now to write a SPARQL query that extracts all the cities from your local knowledge graph (constructed by loading the file example-from-slides.ttl) and uses the results to find the number of inhabitants of these cities and the longitute and latitude information (if available) from DBPedia. \n",
    "\n",
    "Add those triples to your graph using both namespaces (e.g. ex:Amsterdam dbo:populationTotal \"123456\") and print in turtle.   "
   ]
  },
  {
   "cell_type": "code",
   "execution_count": null,
   "metadata": {
    "collapsed": true
   },
   "outputs": [],
   "source": []
  },
  {
   "cell_type": "markdown",
   "metadata": {},
   "source": [
    "## Task 2: (3 points)  Implement basic inferencing rules "
   ]
  },
  {
   "cell_type": "markdown",
   "metadata": {},
   "source": [
    "In the lecture we showed that the RDFS inference rules can be used to infer new knowledge. For example, infer class membership based on rdfs:domain or infer relationships between subjects and objects based on rdfs:subPropertyOf.\n",
    "\n",
    "Create rules (or 1 rule?!) to inference class membership based on the RDF Schema language features \n",
    "*\tFor example: infer that an instance belongs to a class because of domain and range restrictions\n",
    "*\tFor example: infer that an instance belongs to a (super)class because it also belongs to a subclass\n",
    "\n",
    "You should implement at least 4 of the following rules:  \n",
    "\n",
    "*     (rdfs2) If G contains the triples (a rdfs:domain x.) and (u a y.)  then infer the triple (u rdf:type x.)\n",
    "*     (rdfs3) If G contains the triples (a rdfs:range x.) and (u a v.) then infer the triple (v rdf:type x .)\n",
    "*     (rdfs5) If G contains the triples (u rdfs:subPropertyOf v.) and (v rdfs:subPropertyOf x.) then infer the triple\n",
    "(u rdfs:subPropertyOf x.) \n",
    "*     (rdfs7) If G contains the triples (a rdfs:subPropertyOf b.) and (u a y.) then infer the triple (u b y) \n",
    "*     (rdfs9) If G contains the triples (u rdfs:subClassOf x.) and (v rdf:type u.) then infer the triple\n",
    " (v rdf:type x.)   -> this one was not mentioned in the lecture, but is a very important one. \n",
    "*     (rdfs11) If G contains the triples (u rdfs:subClassOf v.) and (v rdfs:subClassOf x.) then infer the triple\n",
    "(u rdfs:subClassOf x.)\n",
    "\n",
    "Actually, please note that you will have already implemented rdfs as part of the assignment of Module 2. \n",
    "\n",
    "Run your rule reasoner on your knowledge graph."
   ]
  },
  {
   "cell_type": "code",
   "execution_count": null,
   "metadata": {
    "collapsed": true
   },
   "outputs": [],
   "source": [
    "# Your code here. "
   ]
  },
  {
   "cell_type": "markdown",
   "metadata": {},
   "source": [
    "## Task 3: (3 points) Build your very own RDFS knowledge graph. \n"
   ]
  },
  {
   "cell_type": "markdown",
   "metadata": {},
   "source": [
    "Define a small RDF Schema vocabulary in Turtle. You can choose your own domain.\n",
    "*\tThe schema should define at least 4 classes, 4 properties, and 4 instances.\n",
    "*   The properties should be used to relate the instances\n",
    "*\tThe instances should be a member of your classes\n",
    "*\tAll resources should have an rdfs:label in a suitable language.\n",
    "\n",
    "You should use (at least) the following language features of RDF and RDFS:\n",
    "\n",
    "* \trdf:type (or 'a')\n",
    "* \trdfs:subClassOf\n",
    "* \trdfs:subPropertyOf\n",
    "* \trdfs:domain and rdfs:range\n",
    "*\trdfs:label\n",
    "\n",
    "Be sure to define the 'rdf:' and 'rdfs:' namespace prefixes for RDF and RDF Schema in your file (perhaps have a look at http://prefix.cc)\n",
    "\n",
    "You can either use a text editor, use Snapper (http://jiemakel.github.io/snapper, which is YASGUI-based). You can also  add the axioms directly (programatically) to your Knowledge Graph as you did last week. Play around with the inference rules you have created in the previous task to make sure that you some added some implicit knowledge, that becomes \"visible\" via inferencing. \n",
    "\n",
    "Create an RDFLIB graph datastructure *myRDFSgraph* and add your knowledge to the graph. "
   ]
  },
  {
   "cell_type": "markdown",
   "metadata": {
    "collapsed": true
   },
   "source": [
    "Serialise your RDF graph *myRDFSgraph* in Turtle, so that we can check your \"design\"."
   ]
  },
  {
   "cell_type": "code",
   "execution_count": null,
   "metadata": {
    "collapsed": true
   },
   "outputs": [],
   "source": [
    "# Your code here."
   ]
  },
  {
   "cell_type": "markdown",
   "metadata": {},
   "source": [
    "### Task 4 (2 points) Compare local inferences with Stardog results"
   ]
  },
  {
   "cell_type": "markdown",
   "metadata": {},
   "source": [
    "Upload your own RDF Schema to Stardog (go to http://localhost:5820 but make sure you have it running first!), and  access it using http://localhost:5820\n",
    "\n",
    "Try to formulate a SPARQL query that queries your schema and some of its instances. Make sure that you write \"Interestin\n",
    "\n",
    "Try the query with and without inferencing (you can easily switch inferencing on and off if you use the Stardog query interface)\n",
    "\n",
    "Tip: first write and test your query using Legacy YASGUI (http://legacy.yasgui.org) and the SPARQL endpoint of your own Stardog triplestore (http://localhost:5820/<databasename>/query). Then copy the query to the Stardog-provided query interface, to test it with inferencing.\n",
    "\n",
    "Provide the query in the Jupyter Notebook\n"
   ]
  },
  {
   "cell_type": "code",
   "execution_count": null,
   "metadata": {
    "collapsed": true
   },
   "outputs": [],
   "source": []
  }
 ],
 "metadata": {
  "kernelspec": {
   "display_name": "Python 2",
   "language": "python",
   "name": "python2"
  },
  "language_info": {
   "codemirror_mode": {
    "name": "ipython",
    "version": 2
   },
   "file_extension": ".py",
   "mimetype": "text/x-python",
   "name": "python",
   "nbconvert_exporter": "python",
   "pygments_lexer": "ipython2",
   "version": "2.7.10"
  }
 },
 "nbformat": 4,
 "nbformat_minor": 2
}
