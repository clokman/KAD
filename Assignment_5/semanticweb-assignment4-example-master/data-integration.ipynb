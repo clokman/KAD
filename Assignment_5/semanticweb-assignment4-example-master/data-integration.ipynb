{
 "cells": [
  {
   "cell_type": "markdown",
   "metadata": {},
   "source": [
    "First we'll do a call to the OMDB API website, to retrieve a JSON representation of \"Fear and Loathing in Las Vegas\"\n",
    "\n",
    "*(note that this deviates from the course slides, which use the 'old' imdbapi.org service)*\n",
    "\n",
    "See <https://www.omdbapi.com> for examples on how to use this service"
   ]
  },
  {
   "cell_type": "code",
   "execution_count": 12,
   "metadata": {
    "collapsed": true
   },
   "outputs": [],
   "source": [
    "import requests\n",
    "\n",
    "omdb_api_url = \"http://www.omdbapi.com/\"\n",
    "\n",
    "params = {\n",
    "    't': 'Fear and Loathing in Las Vegas',\n",
    "    'plot': 'short',\n",
    "    'r': 'json',\n",
    "    'y': ''\n",
    "}\n",
    "\n"
   ]
  },
  {
   "cell_type": "markdown",
   "metadata": {},
   "source": [
    "Retrieve the response, interpret it as JSON, and show it"
   ]
  },
  {
   "cell_type": "code",
   "execution_count": 13,
   "metadata": {
    "collapsed": false
   },
   "outputs": [
    {
     "data": {
      "text/plain": [
       "{u'Actors': u'Johnny Depp, Benicio Del Toro, Tobey Maguire, Ellen Barkin',\n",
       " u'Awards': u'1 win & 3 nominations.',\n",
       " u'Country': u'USA',\n",
       " u'Director': u'Terry Gilliam',\n",
       " u'Genre': u'Adventure, Comedy, Drama',\n",
       " u'Language': u'English',\n",
       " u'Metascore': u'41',\n",
       " u'Plot': u'An oddball journalist and his psychopathic lawyer travel to Las Vegas for a series of psychedelic escapades.',\n",
       " u'Poster': u'http://ia.media-imdb.com/images/M/MV5BNjA2ZDY3ZjYtZmNiMC00MDU5LTgxMWEtNzk1YmI3NzdkMTU0XkEyXkFqcGdeQXVyNjQyMjcwNDM@._V1_SX300.jpg',\n",
       " u'Rated': u'R',\n",
       " u'Released': u'22 May 1998',\n",
       " u'Response': u'True',\n",
       " u'Runtime': u'118 min',\n",
       " u'Title': u'Fear and Loathing in Las Vegas',\n",
       " u'Type': u'movie',\n",
       " u'Writer': u'Hunter S. Thompson (book), Terry Gilliam (screenplay), Tony Grisoni (screenplay), Tod Davies (screenplay), Alex Cox (screenplay)',\n",
       " u'Year': u'1998',\n",
       " u'imdbID': u'tt0120669',\n",
       " u'imdbRating': u'7.7',\n",
       " u'imdbVotes': u'214,224'}"
      ]
     },
     "execution_count": 13,
     "metadata": {},
     "output_type": "execute_result"
    }
   ],
   "source": [
    "response = requests.get(omdb_api_url, params=params).json()\n",
    "\n",
    "response"
   ]
  },
  {
   "cell_type": "markdown",
   "metadata": {},
   "source": [
    "This is JSON, but not very 'neat'. See how we still need to do some parsing for the 'Writer' and 'Actors' fields.\n",
    "\n",
    "Let's go over this response, and create a simple RDF representation for it:\n",
    "\n",
    "* Create an RDF Graph\n",
    "* Define our namespace, and add a prefix binding to the graph. We'll use the IMDB domain, though this will break our ability to dereference the URIS"
   ]
  },
  {
   "cell_type": "code",
   "execution_count": 26,
   "metadata": {
    "collapsed": false
   },
   "outputs": [],
   "source": [
    "from rdflib import Graph, Namespace, URIRef, Literal, XSD, RDF\n",
    "\n",
    "# create an RDF graph\n",
    "g = Graph()\n",
    "\n",
    "\n",
    "IMDB = Namespace(\"http://imdb.com/\")\n",
    "\n",
    "g.bind('imdb',IMDB)"
   ]
  },
  {
   "cell_type": "markdown",
   "metadata": {},
   "source": [
    "The most straightforward way to convert to RDF is to iterate over the keys/values in the dataset\n",
    "\n",
    "But because we want to do some additional parsing of the values, we'll do it one by one:\n",
    "\n",
    "* The imdbID is the basis for the URI of our movie\n",
    "* We use the IMDB namespace object, and the value of the 'imdbID' field to create the URI"
   ]
  },
  {
   "cell_type": "code",
   "execution_count": 27,
   "metadata": {
    "collapsed": false
   },
   "outputs": [
    {
     "name": "stdout",
     "output_type": "stream",
     "text": [
      "Created http://imdb.com/tt0120669\n"
     ]
    }
   ],
   "source": [
    "fear_URI = IMDB[response['imdbID']]\n",
    "\n",
    "print \"Created {}\".format(fear_URI)"
   ]
  },
  {
   "cell_type": "markdown",
   "metadata": {},
   "source": [
    "We now start adding triples where that URI is the subject:\n",
    "\n",
    "* we invent the properties/predicates as we go along, but stay close to the original name from the response. \n",
    "* some of the 'objects' of our triples are literals, and some are URIs. We create URIs where possible. "
   ]
  },
  {
   "cell_type": "code",
   "execution_count": 30,
   "metadata": {
    "collapsed": false
   },
   "outputs": [],
   "source": [
    "# Every result we get is of type 'imdb:Movie'\n",
    "g.add((fear_URI, RDF.type, IMDB['Movie']))\n",
    "\n",
    "# The value for imdb:title is an english language literal (mind the double brackets)\n",
    "g.add((fear_URI, IMDB['title'], Literal(response['Title'], lang='en')))\n",
    "\n",
    "# The value for imdb:actor, is for each actor a Literal string \n",
    "# (though we could have generated URIs for every actore)\n",
    "\n",
    "# Split the 'Actors' value by comma, and then strip every element of trailing spaces:\n",
    "actors = [a.strip() for a in response['Actors'].split(',')]\n",
    "\n",
    "# Iterate over the 'actors' we found\n",
    "for actor in actors:\n",
    "    g.add((fear_URI, IMDB['actor'], Literal(actor)))\n",
    "    \n",
    "# The language is again an english language literal\n",
    "g.add((fear_URI, IMDB['language'], Literal(response['Language'], lang='en')))\n",
    "\n",
    "# The runtime should be an XSD duration, but we have to strip the 'min' part, and replace it with 'M'\n",
    "# See e.g. <http://www.w3schools.com/xml/schema_dtypes_date.asp>\n",
    "duration = response['Runtime'].replace(' min', 'M')\n",
    "g.add((fear_URI, IMDB['runtime'], Literal(duration, datatype=XSD['duration'])))\n",
    "\n",
    "# The genres are again a comma separated list. They could be \n",
    "genres = [genre.strip() for genre in response['Genre'].split(',')]\n",
    "for genre in genres:\n",
    "    g.add((fear_URI, IMDB['genre'], Literal(genre, lang='en')))\n",
    "    \n",
    "# The rating is a literal value\n",
    "g.add((fear_URI, IMDB['rated'], Literal(response['Rated'])))\n",
    "    \n",
    "# The writers are a comma separated list, so here we go again:\n",
    "writers = [w.strip() for w in response['Writer'].split(',')]\n",
    "for writer in writers:\n",
    "    g.add((fear_URI, IMDB['writer'], Literal(writer)))\n",
    "    \n",
    "# The director is a single literal in this case (but perhaps there could be more???):\n",
    "g.add((fear_URI, IMDB['director'], Literal(response['Director'])))\n",
    "\n",
    "# The plot is an english literal\n",
    "g.add((fear_URI, IMDB['plot'], Literal(response['Plot'], lang='en')))\n",
    "\n",
    "# The year is an XSD gYear\n",
    "g.add((fear_URI, IMDB['year'], Literal(response['Year'], datatype=XSD.gYear)))\n",
    "\n",
    "# The IMDB rating is a double\n",
    "g.add((fear_URI, IMDB['rating'], Literal(response['imdbRating'], datatype=XSD.double)))\n",
    "\n",
    "# The poster is a URL\n",
    "g.add((fear_URI, IMDB['poster'], URIRef(response['Poster'])))"
   ]
  },
  {
   "cell_type": "markdown",
   "metadata": {},
   "source": [
    "Let's see what this look likes"
   ]
  },
  {
   "cell_type": "code",
   "execution_count": 33,
   "metadata": {
    "collapsed": false
   },
   "outputs": [
    {
     "name": "stdout",
     "output_type": "stream",
     "text": [
      "@prefix imdb: <http://imdb.com/> .\n",
      "@prefix rdf: <http://www.w3.org/1999/02/22-rdf-syntax-ns#> .\n",
      "@prefix rdfs: <http://www.w3.org/2000/01/rdf-schema#> .\n",
      "@prefix xml: <http://www.w3.org/XML/1998/namespace> .\n",
      "@prefix xsd: <http://www.w3.org/2001/XMLSchema#> .\n",
      "\n",
      "imdb:tt0120669 a imdb:Movie ;\n",
      "    imdb:actor \"Benicio Del Toro\",\n",
      "        \"Ellen Barkin\",\n",
      "        \"Johnny Depp\",\n",
      "        \"Tobey Maguire\" ;\n",
      "    imdb:director \"Terry Gilliam\" ;\n",
      "    imdb:genre \"Adventure\"@en,\n",
      "        \"Comedy\"@en,\n",
      "        \"Drama\"@en ;\n",
      "    imdb:language \"English\"@en ;\n",
      "    imdb:plot \"An oddball journalist and his psychopathic lawyer travel to Las Vegas for a series of psychedelic escapades.\"@en ;\n",
      "    imdb:poster <http://ia.media-imdb.com/images/M/MV5BNjA2ZDY3ZjYtZmNiMC00MDU5LTgxMWEtNzk1YmI3NzdkMTU0XkEyXkFqcGdeQXVyNjQyMjcwNDM@._V1_SX300.jpg> ;\n",
      "    imdb:rated \"R\" ;\n",
      "    imdb:rating 7.7e+00 ;\n",
      "    imdb:runtime \"118M\"^^xsd:duration ;\n",
      "    imdb:title \"Fear and Loathing in Las Vegas\"@en ;\n",
      "    imdb:writer \"Alex Cox (screenplay)\",\n",
      "        \"Hunter S. Thompson (book)\",\n",
      "        \"Terry Gilliam (screenplay)\",\n",
      "        \"Tod Davies (screenplay)\",\n",
      "        \"Tony Grisoni (screenplay)\" ;\n",
      "    imdb:year \"1998\"^^xsd:gYear .\n",
      "\n",
      "\n"
     ]
    }
   ],
   "source": [
    "print g.serialize(format='turtle')"
   ]
  },
  {
   "cell_type": "markdown",
   "metadata": {},
   "source": [
    "## Facebook\n",
    "\n",
    "Let's do the same thing for a Facebook example"
   ]
  },
  {
   "cell_type": "code",
   "execution_count": 79,
   "metadata": {
    "collapsed": false
   },
   "outputs": [
    {
     "name": "stdout",
     "output_type": "stream",
     "text": [
      "{u'paging': {u'cursors': {u'after': u'ODMwNTUyNDg1NAZDZD', u'before': u'Njg4MjU3MDE0NTg5OTU5'}}, u'data': [{u'category': u'Movie', u'name': u'Strawman - The Nature Of The Cage', u'id': u'688257014589959'}, {u'category': u'Movie', u'name': u'Human Flight 3D The Movie', u'id': u'289482145973'}, {u'category': u'Movie', u'name': u'Waking Life', u'id': u'109327925759703'}, {u'category': u'Movie', u'name': u'Fear and Loathing in Las Vegas', u'id': u'105638652803531'}, {u'category': u'Community', u'name': u'Zeitgeist', u'id': u'32985985640'}, {u'category': u'Movie', u'name': u'The Fountain', u'id': u'8305524854'}]}\n"
     ]
    }
   ],
   "source": [
    "user_id = \"594486635\" # Replace this with your user id (or the id of the user you want to access)\n",
    "access_token = \"YOUR ACCESS TOKEN\" # Replace this with your own access token\n",
    "facebook_url = \"https://graph.facebook.com/v2.7/{}/movies\".format(user_id)\n",
    "\n",
    "params = {'access_token': access_token, 'fields': 'category, name'}\n",
    "\n",
    "response = requests.get(facebook_url, params=params).json()\n",
    "\n",
    "print response"
   ]
  },
  {
   "cell_type": "markdown",
   "metadata": {},
   "source": [
    "For convenience (because we cannot share the access token), we provide the expected response here. Remove this if you want to try it out with your own access token"
   ]
  },
  {
   "cell_type": "code",
   "execution_count": 80,
   "metadata": {
    "collapsed": true
   },
   "outputs": [],
   "source": [
    "response = {\n",
    "  \"data\": [\n",
    "    {\n",
    "      \"category\": \"Movie\",\n",
    "      \"name\": \"Strawman - The Nature Of The Cage\",\n",
    "      \"id\": \"688257014589959\"\n",
    "    },\n",
    "    {\n",
    "      \"category\": \"Movie\",\n",
    "      \"name\": \"Human Flight 3D The Movie\",\n",
    "      \"id\": \"289482145973\"\n",
    "    },\n",
    "    {\n",
    "      \"category\": \"Movie\",\n",
    "      \"name\": \"Waking Life\",\n",
    "      \"id\": \"109327925759703\"\n",
    "    },\n",
    "    {\n",
    "      \"category\": \"Movie\",\n",
    "      \"name\": \"Fear and Loathing in Las Vegas\",\n",
    "      \"id\": \"105638652803531\"\n",
    "    },\n",
    "    {\n",
    "      \"category\": \"Community\",\n",
    "      \"name\": \"Zeitgeist\",\n",
    "      \"id\": \"32985985640\"\n",
    "    },\n",
    "    {\n",
    "      \"category\": \"Movie\",\n",
    "      \"name\": \"The Fountain\",\n",
    "      \"id\": \"8305524854\"\n",
    "    }\n",
    "  ],\n",
    "  \"paging\": {\n",
    "    \"cursors\": {\n",
    "      \"before\": \"Njg4MjU3MDE0NTg5OTU5\",\n",
    "      \"after\": \"ODMwNTUyNDg1NAZDZD\"\n",
    "    }\n",
    "  }\n",
    "}"
   ]
  },
  {
   "cell_type": "markdown",
   "metadata": {},
   "source": [
    "Add a facebook namespace & prefix to a new Facebook-specific graph"
   ]
  },
  {
   "cell_type": "code",
   "execution_count": 81,
   "metadata": {
    "collapsed": true
   },
   "outputs": [],
   "source": [
    "fbg = Graph()\n",
    "\n",
    "FB = Namespace(\"https://graph.facebook.com/\")\n",
    "fbg.bind('fb', FB)"
   ]
  },
  {
   "cell_type": "markdown",
   "metadata": {
    "collapsed": true
   },
   "source": [
    "We'll generate a URI again for our focal point (the Facebook user, we'll use the `user_id` specified earlier), and iterate over all results, to create movies. Since we now have Facebook identifiers for all movies, we can build URIs for them. Cool."
   ]
  },
  {
   "cell_type": "code",
   "execution_count": 82,
   "metadata": {
    "collapsed": false
   },
   "outputs": [
    {
     "name": "stdout",
     "output_type": "stream",
     "text": [
      "Created https://graph.facebook.com/user-594486635\n"
     ]
    }
   ],
   "source": [
    "user_URI = FB[\"user-{}\".format(user_id)] # QNames cannot start with a digit; oldfashioned.\n",
    "\n",
    "# Every user is of type fb:User\n",
    "fbg.add((user_URI, RDF.type, FB['User']))\n",
    "\n",
    "print \"Created {}\".format(user_URI)"
   ]
  },
  {
   "cell_type": "code",
   "execution_count": 83,
   "metadata": {
    "collapsed": false
   },
   "outputs": [],
   "source": [
    "for like in response['data']:\n",
    "    # The user likes every movie we found, and every movie is a resource \n",
    "    # whose URI is based on its internal facebook ID\n",
    "    movie_URI = FB[\"movie-{}\".format(like['id'])]\n",
    "    \n",
    "    fbg.add((user_URI, FB['likes'], movie_URI))\n",
    "    \n",
    "    # Every movie is of the type specified by the 'category' field\n",
    "    fbg.add((movie_URI, RDF.type, FB[like['category']]))\n",
    "    # Every movie has a name (english literal)\n",
    "    fbg.add((movie_URI, FB['name'], Literal(like['name'], lang='en')))"
   ]
  },
  {
   "cell_type": "markdown",
   "metadata": {},
   "source": [
    "Let's see what this looks like"
   ]
  },
  {
   "cell_type": "code",
   "execution_count": 84,
   "metadata": {
    "collapsed": false
   },
   "outputs": [
    {
     "name": "stdout",
     "output_type": "stream",
     "text": [
      "@prefix fb: <https://graph.facebook.com/> .\n",
      "@prefix rdf: <http://www.w3.org/1999/02/22-rdf-syntax-ns#> .\n",
      "@prefix rdfs: <http://www.w3.org/2000/01/rdf-schema#> .\n",
      "@prefix xml: <http://www.w3.org/XML/1998/namespace> .\n",
      "@prefix xsd: <http://www.w3.org/2001/XMLSchema#> .\n",
      "\n",
      "fb:user-594486635 a fb:User ;\n",
      "    fb:likes fb:movie-105638652803531,\n",
      "        fb:movie-109327925759703,\n",
      "        fb:movie-289482145973,\n",
      "        fb:movie-32985985640,\n",
      "        fb:movie-688257014589959,\n",
      "        fb:movie-8305524854 .\n",
      "\n",
      "fb:movie-105638652803531 a fb:Movie ;\n",
      "    fb:name \"Fear and Loathing in Las Vegas\"@en .\n",
      "\n",
      "fb:movie-109327925759703 a fb:Movie ;\n",
      "    fb:name \"Waking Life\"@en .\n",
      "\n",
      "fb:movie-289482145973 a fb:Movie ;\n",
      "    fb:name \"Human Flight 3D The Movie\"@en .\n",
      "\n",
      "fb:movie-32985985640 a fb:Community ;\n",
      "    fb:name \"Zeitgeist\"@en .\n",
      "\n",
      "fb:movie-688257014589959 a fb:Movie ;\n",
      "    fb:name \"Strawman - The Nature Of The Cage\"@en .\n",
      "\n",
      "fb:movie-8305524854 a fb:Movie ;\n",
      "    fb:name \"The Fountain\"@en .\n",
      "\n",
      "\n"
     ]
    }
   ],
   "source": [
    "print fbg.serialize(format='turtle')"
   ]
  },
  {
   "cell_type": "markdown",
   "metadata": {},
   "source": [
    "Putting this together...."
   ]
  },
  {
   "cell_type": "code",
   "execution_count": 85,
   "metadata": {
    "collapsed": false
   },
   "outputs": [
    {
     "name": "stdout",
     "output_type": "stream",
     "text": [
      "@prefix fb: <https://graph.facebook.com/> .\n",
      "@prefix imdb: <http://imdb.com/> .\n",
      "@prefix rdf: <http://www.w3.org/1999/02/22-rdf-syntax-ns#> .\n",
      "@prefix rdfs: <http://www.w3.org/2000/01/rdf-schema#> .\n",
      "@prefix xml: <http://www.w3.org/XML/1998/namespace> .\n",
      "@prefix xsd: <http://www.w3.org/2001/XMLSchema#> .\n",
      "\n",
      "imdb:tt0120669 a imdb:Movie ;\n",
      "    imdb:actor \"Benicio Del Toro\",\n",
      "        \"Ellen Barkin\",\n",
      "        \"Johnny Depp\",\n",
      "        \"Tobey Maguire\" ;\n",
      "    imdb:director \"Terry Gilliam\" ;\n",
      "    imdb:genre \"Adventure\"@en,\n",
      "        \"Comedy\"@en,\n",
      "        \"Drama\"@en ;\n",
      "    imdb:language \"English\"@en ;\n",
      "    imdb:plot \"An oddball journalist and his psychopathic lawyer travel to Las Vegas for a series of psychedelic escapades.\"@en ;\n",
      "    imdb:poster <http://ia.media-imdb.com/images/M/MV5BNjA2ZDY3ZjYtZmNiMC00MDU5LTgxMWEtNzk1YmI3NzdkMTU0XkEyXkFqcGdeQXVyNjQyMjcwNDM@._V1_SX300.jpg> ;\n",
      "    imdb:rated \"R\" ;\n",
      "    imdb:rating 7.7e+00 ;\n",
      "    imdb:runtime \"118M\"^^xsd:duration ;\n",
      "    imdb:title \"Fear and Loathing in Las Vegas\"@en ;\n",
      "    imdb:writer \"Alex Cox (screenplay)\",\n",
      "        \"Hunter S. Thompson (book)\",\n",
      "        \"Terry Gilliam (screenplay)\",\n",
      "        \"Tod Davies (screenplay)\",\n",
      "        \"Tony Grisoni (screenplay)\" ;\n",
      "    imdb:year \"1998\"^^xsd:gYear .\n",
      "\n",
      "fb:user-594486635 a fb:User ;\n",
      "    fb:likes fb:movie-105638652803531,\n",
      "        fb:movie-109327925759703,\n",
      "        fb:movie-289482145973,\n",
      "        fb:movie-32985985640,\n",
      "        fb:movie-688257014589959,\n",
      "        fb:movie-8305524854 .\n",
      "\n",
      "fb:movie-105638652803531 a fb:Movie ;\n",
      "    fb:name \"Fear and Loathing in Las Vegas\"@en .\n",
      "\n",
      "fb:movie-109327925759703 a fb:Movie ;\n",
      "    fb:name \"Waking Life\"@en .\n",
      "\n",
      "fb:movie-289482145973 a fb:Movie ;\n",
      "    fb:name \"Human Flight 3D The Movie\"@en .\n",
      "\n",
      "fb:movie-32985985640 a fb:Community ;\n",
      "    fb:name \"Zeitgeist\"@en .\n",
      "\n",
      "fb:movie-688257014589959 a fb:Movie ;\n",
      "    fb:name \"Strawman - The Nature Of The Cage\"@en .\n",
      "\n",
      "fb:movie-8305524854 a fb:Movie ;\n",
      "    fb:name \"The Fountain\"@en .\n",
      "\n",
      "\n"
     ]
    }
   ],
   "source": [
    "newgraph = g + fbg\n",
    "\n",
    "print newgraph.serialize(format='turtle')"
   ]
  },
  {
   "cell_type": "code",
   "execution_count": null,
   "metadata": {
    "collapsed": true
   },
   "outputs": [],
   "source": []
  }
 ],
 "metadata": {
  "kernelspec": {
   "display_name": "Python 2",
   "language": "python",
   "name": "python2"
  },
  "language_info": {
   "codemirror_mode": {
    "name": "ipython",
    "version": 2
   },
   "file_extension": ".py",
   "mimetype": "text/x-python",
   "name": "python",
   "nbconvert_exporter": "python",
   "pygments_lexer": "ipython2",
   "version": "2.7.12"
  }
 },
 "nbformat": 4,
 "nbformat_minor": 0
}
